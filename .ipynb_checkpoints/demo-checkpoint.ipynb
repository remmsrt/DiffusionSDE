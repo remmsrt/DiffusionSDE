{
 "cells": [
  {
   "cell_type": "markdown",
   "metadata": {
    "tags": []
   },
   "source": [
    "# Score-Based Diffusion Model with SDEs - From Scratch"
   ]
  },
  {
   "cell_type": "markdown",
   "metadata": {},
   "source": [
    "Ideas for improvement:\n",
    "    \n",
    "- Expliquer DDPM et lien avec SDEs\n",
    "- Expliquer MCMC dans LD\n",
    "- Tester de sampler avec l'Ornstein Uhlenbeck, comparer les résultats via le score FID\n",
    "- Voir si c'est vraiment utile de laisser implicit score matching (puisque la manière d'approcher le score dans denoising score matching est différente)\n",
    "- Mettre des légendes sur les figures\n",
    "- Faire une biblio\n",
    "- Pourquoi \"when the score networks are trained to optimality, we approximately have $\\left\\| \\mathbf{s}_{\\theta}(\\mathbf{x}, i)\\right \\| \\propto \\frac{1}{\\sigma^2}$. \"\n",
    "- Implémenter time series to image\n",
    "- Prendre plutot des data synthétiques univariés (générés avec un GARCH ou un brownien simple) pour générer des timeseries (récupérer la fonction sur le github d'Alexandre). Car les stocks y'a de la vol etc.\n",
    "- Tester sur des groupes de stocks (Apple, Microsoft)\n",
    "- Regarder les papiers récents sur time series generation\n",
    "- Lire le survey sur time series generation\n",
    "- Trouver un moyen de visualiser l'architecture du réseau du code (le dessiner avec la tablette ?)"
   ]
  },
  {
   "cell_type": "markdown",
   "metadata": {},
   "source": [
    "Biblio:\n",
    "    \n",
    "- Denoising Score Matching explained: https://johfischer.com/2022/09/18/denoising-score-matching/\n",
    "- What's the score ? From Oxford: https://scorebasedgenerativemodeling.github.io\n",
    "- Generative Modelling explained: https://github.com/SHI-Yu-Zhe/generative-modeling-explained\n",
    "- Score-matching explained: https://ericmjl.github.io/score-models/notebooks/01-score-function.html\n",
    "- What are diffusion models ?: https://lilianweng.github.io/posts/2021-07-11-diffusion-models/\n",
    "- Yang Song explained: https://uvadl2c.github.io/lectures/Advanced%20Generative%20&%20Energy-based%20Models/modern-based-models/lecture%204%20-%20all%20slides.pdf\n",
    "- GFF: https://bmild.github.io/fourfeat/\n",
    "- Fourier Feature Mapping: https://bmild.github.io/fourfeat/"
   ]
  },
  {
   "cell_type": "markdown",
   "metadata": {},
   "source": [
    "# 0 - Goal\n",
    "\n",
    "The goal of this notebook is to implement, from scratch, a score-based generative model based on a stochastic differential equation (SDE), inspired by the following paper:\n",
    "\n",
    "[Yang Song, Jascha Sohl-Dickstein, Diederik P. Kingma, Abhishek Kumar, Stefano Ermon, and Ben Poole. “Score-Based Generative Modeling through Stochastic Differential Equations.” International Conference on Learning Representations (ICLR), 2021.](https://www.google.com/url?q=https%3A%2F%2Farxiv.org%2Fpdf%2F2011.13456.pdf)"
   ]
  },
  {
   "cell_type": "markdown",
   "metadata": {},
   "source": [
    "# 1 - Introduction to Generative Modeling\n",
    "\n",
    "Let $\\mathcal{D} = \\{x_1, \\dots, x_n\\}$  be a dataset of $i.i.d.$ samples from an unknown distribution $p(x)$ , with  $x \\in \\mathbb{R}^D$. The goal of generative modeling is to learn a model $p_\\theta(x)$ that approximates $p(x)$, enabling the generation of new, realistic samples. A **deep generative model** is a model $p_\\theta(x)$, parameterized by a neural network.\n",
    "\n",
    "As noted by [Yang Song](https://yang-song.github.io/blog/2021/score/), generative models can be broadly categorized based on how they represent probability distributions:"
   ]
  },
  {
   "cell_type": "markdown",
   "metadata": {},
   "source": [
    "## 1.1 - Likelihood-based models\n",
    "\n",
    "One way to represent a probability distribution, as in **likelihood-based models**, is to directly model the probability density function ($p.d.f.$). \n",
    "\n",
    "Let $\\tilde{p}_\\theta(x)$ be a real-valued function parameterized by a learnable parameter $\\theta$. \n",
    "\n",
    "We can define a $p.d.f.$ via\n",
    "\n",
    "$$\n",
    "p_\\theta(x) = \\frac{e^{-\\tilde{p}_\\theta(x)}}{Z(\\theta)}\n",
    "$$\n",
    "\n",
    "where $Z(\\theta)$ is a normalizing constant dependent on $\\theta$, such that\n",
    "\n",
    "$$\n",
    "\\int_{\\mathbb{R}^d} p_\\theta(x) \\, dx = 1.\n",
    "$$\n",
    "\n",
    "Here the function $\\tilde{p}_\\theta(x)$ is often called an unnormalized probabilistic model, or **energy-based model**.\n",
    "\n",
    "These models are typically trained by (exact or approximate) **maximum likelihood estimation (MLE)**:\n",
    "\n",
    "$$\n",
    "\\hat{\\theta}_{\\text{MLE}} = \\arg\\max_\\theta \\mathcal{L}(\\theta) = \\arg\\max_\\theta \\sum_{i=1}^n \\log p_\\theta(x_i)\n",
    "$$\n",
    "\n",
    "However, this requires $p_\\theta(x)$ to be a normalized probability density function. This is undesirable because in order to compute $p_\\theta(x)$, we must evaluate the normalizing constant $Z(\\theta)$ — a typically intractable quantity for any general $\\tilde{p}_\\theta(x)$. \n",
    "\n",
    "Thus, to make maximum likelihood training feasible, likelihood-based models must either restrict their model architectures (e.g., causal convolutions in [autoregressive models](https://arxiv.org/pdf/1601.06759), invertible networks in [normalizing flow models](https://arxiv.org/pdf/1605.08803)) to make $Z(\\theta)$ tractable, or approximate the normalizing constant (e.g., variational inference in [variational autoencoders](https://arxiv.org/pdf/1312.6114)) which may be computationally expensive."
   ]
  },
  {
   "cell_type": "markdown",
   "metadata": {},
   "source": [
    "## 1.2 - Implicit generative models\n",
    "\n",
    "Another way to represent a probability distribution is by **implicit generative models**, where the probability distribution is implicitly represented by a model of its sampling process. The most prominent example is generative adversarial networks (GANs), where new samples from the data distribution are synthesized by transforming a random Gaussian vector with a neural network.\n",
    "\n",
    "---\n",
    "\n",
    "### Generative Adversarial Networks (GANs)\n",
    "\n",
    "Introduced by [Ian Goodfellow (2014)](https://arxiv.org/pdf/1406.2661), Generative Adversarial Networks (GANs) are a class of generative models that sidestep the need to explicitly represent or evaluate the likelihood function $p_\\theta(x)$. Instead, GANs focus on *implicitly* modeling the data distribution by learning to generate samples that are indistinguishable from real data.\n",
    "\n",
    "A GAN consists of two neural networks trained simultaneously:\n",
    "\n",
    "- A **generator** $G_\\theta: \\mathbb{R}^J \\to \\mathbb{R}^D$, which maps latent variables $z \\sim p_z(z)$ (usually a simple prior like $\\mathcal{N}(0, I)$) to data space:  \n",
    "\n",
    "$$x = G_\\theta(z)$$\n",
    "- A **discriminator** $D_\\phi: \\mathbb{R}^D \\to [0, 1]$, which outputs the probability that a given input came from the real data rather than being generated.\n",
    "\n",
    "The generator defines a distribution over data, denoted $p_\\theta(x)$, implicitly through the transformation of $z$ via $G_\\theta$. Unlike likelihood-based models, **there is no tractable expression for the density $p_\\theta(x)$**, which makes likelihood-based training infeasible.\n",
    "\n",
    "Instead, GANs are trained using a two-player **minimax game**, where the generator tries to fool the discriminator, and the discriminator tries to correctly distinguish real from fake samples. The original loss is given by:\n",
    "\n",
    "$$\n",
    "\\min_\\theta \\max_\\phi \\; \\mathbb{E}_{x \\sim p_{\\text{data}}} [\\log D_\\phi(x)] + \\mathbb{E}_{z \\sim p_z} [\\log(1 - D_\\phi(G_\\theta(z)))]\n",
    "$$\n",
    "\n",
    "At equilibrium, the generator ideally produces samples indistinguishable from the true data, meaning $p_\\theta(x) \\approx p(x)$ and $D_\\phi(x) \\approx \\frac{1}{2}$ for all $x$."
   ]
  },
  {
   "cell_type": "markdown",
   "metadata": {},
   "source": [
    "# 2 - Score-based Generative Modeling\n",
    "\n",
    "Likelihood-based models and implicit generative models, however, both have significant limitations. Likelihood-based models either require strong restrictions on the model architecture to ensure a tractable normalizing constant for likelihood computation, or must rely on surrogate objectives to approximate maximum likelihood training. Implicit generative models, on the other hand, often require adversarial training, which is [notoriously unstable](https://arxiv.org/pdf/1606.03498) and can lead to mode collapse.\n",
    "\n",
    "---\n",
    "\n",
    "## 2.1 - Score function\n",
    "\n",
    "As shown by [Hyvärinen (2005)](https://jmlr.org/papers/volume6/hyvarinen05a/hyvarinen05a.pdf), another approach to generative modeling is to model the gradient of the log probability density function instead of the density function itself. This produces a quantity often known as the **score function**. \n",
    "\n",
    "By modeling the score function instead of the density function, we can sidestep the difficulty of intractable normalizing constants. The **score function** of a distribution $p(\\mathbf{x})$ is defined as\n",
    "\n",
    "$$\n",
    "\\nabla_{\\mathbf{x}} \\log p(\\mathbf{x}),\n",
    "$$\n",
    "\n",
    "and a model for the score function is called a **score-based model**, which we denote as $s_\\theta(\\mathbf{x})$. The score-based model is learned such that $s_\\theta(\\mathbf{x}) \\approx \\nabla_{\\mathbf{x}} \\log p(\\mathbf{x})$ and can be parameterized without worrying about the normalizing constant $Z_\\theta$. \n",
    "\n",
    "Indeed, if we insert the take the example of an energy-based model we obtain:\n",
    "\n",
    "$$\n",
    "s_\\theta(\\mathbf{x}) \\approx \\nabla_{\\mathbf{x}} \\log p_\\theta(\\mathbf{x}) \n",
    "= \\nabla_{\\mathbf{x}} \\log \\frac{e^{-f_\\theta(\\mathbf{x})}}{Z_\\theta} \n",
    "= \\nabla_{\\mathbf{x}} \\log e^{-f_\\theta(\\mathbf{x})} - \\underbrace{\\nabla_{\\mathbf{x}} \\log Z_\\theta}_{= 0} \n",
    "= - \\nabla_{\\mathbf{x}} f_\\theta(\\mathbf{x})\n",
    "$$\n",
    "\n",
    "Note that $s_\\theta(\\mathbf{x}) \\in \\mathbb{R}^D$ when $\\mathbf{x} \\in \\mathbb{R}^D$.  \n",
    "\n",
    "This significantly expands the family of models that we can tractably use, since we don’t need any special architectures to make the normalizing constant tractable. The only constraint is that the model output must have the same dimension as the input.\n",
    "\n",
    "Let’s assume our true data distribution is a simple univariate **Gaussian Mixture Model (GMM)**, as displayed in the following figure. The value of the corresponding score function at each position $x$, tells us the direction of higher density. For example, if we are at $x = -4$ we can see that the score is positive and thus, if we want to make $x$ slightly more likely under $p(x)$, we need to move to the right. Contrarily, if we evaluate the point $x = 4$, the negative score tells us that for a higher density region we need to move to the left."
   ]
  },
  {
   "cell_type": "markdown",
   "metadata": {},
   "source": [
    "<div align=\"center\">\n",
    "\n",
    "<img src=\"figures/score.png\" width=\"50%\"/>\n",
    "\n",
    "</div>"
   ]
  },
  {
   "cell_type": "markdown",
   "metadata": {},
   "source": [
    "## 2.2 - Score Matching\n",
    "\n",
    "Instead of fitting a model to the data distribution, we can fit a model to the score function. The score function is a gradient; therefore, it returns an object of the same shape as its input $x$. Thus, similar to likelihood-based models, we can train score-based models by minimizing the **Fisher divergence** between the model and the data distributions.\n",
    "\n",
    "Fisher divergence is typically between two distributions $p$ and $q$, defined as\n",
    "\n",
    "$$\n",
    "\\mathbb{E}_{p(\\mathbf{x})} \\left[ \\left\\| \\nabla_{\\mathbf{x}} \\log p(\\mathbf{x}) - \\nabla_{\\mathbf{x}} \\log q(\\mathbf{x}) \\right\\|^2 \\right]\n",
    "$$\n",
    "\n",
    "Here we slightly abuse the term as the name of a closely related expression for score-based models. So the function we want to minimize to learn the score is defined as follows:\n",
    "\n",
    "$$\n",
    "L_{\\text{ESM}_{p}}(\\theta) = \\mathbb{E}_{p(x)} \\left[ \\left\\| \\, s_\\theta(\\mathbf{x}) - \\nabla_{\\mathbf{x}} \\log p(\\mathbf{x}) \\right\\|^2 \\right] = \\int_{\\mathbb{R}^D} \\left\\| s_\\theta(\\mathbf{x}) - \\nabla_{\\mathbf{x}} \\log p(\\mathbf{x}) \\right\\|^2 p(\\mathbf{x}) \\, d\\mathbf{x}.\n",
    "$$\n",
    "\n",
    "Following the terminology introduced by [Vincent (2010)](https://www.iro.umontreal.ca/~vincentp/Publications/smdae_techreport.pdf), we will refer to this objective loss function as **explicit score matching (ESM)**.\n",
    "\n",
    "Finally, the minimizer $\\theta^*$ of this function, which corresponds to the model's optimal parameters, is defined by:\n",
    "\n",
    "$$\\theta^* = \\arg\\min_\\theta L_{\\text{ESM}}(\\theta)$$\n",
    "\n",
    "Following the terminology introduced by [Hyvärinen (2005)](https://jmlr.org/papers/volume6/hyvarinen05a/hyvarinen05a.pdf), we will refer to $\\theta^*$ as the **score matching estimator**."
   ]
  },
  {
   "cell_type": "markdown",
   "metadata": {},
   "source": [
    "## 2.3 - Langevin Dynamics\n",
    "\n",
    "Once we have trained a score-based model $s_\\theta(\\mathbf{x}) \\approx \\nabla_{\\mathbf{x}} \\log p(\\mathbf{x})$, we can use an iterative procedure called **Langevin dynamics** to draw samples from it.\n",
    "\n",
    "Langevin dynamics provides an MCMC procedure to sample from a distribution $p(\\mathbf{x})$ using only its score function $\\nabla_{\\mathbf{x}} \\log p(\\mathbf{x})$. Specifically, it initializes the chain from an arbitrary prior distribution $\\mathbf{x}_0 \\sim \\pi(\\mathbf{x})$, and then iterates the following:\n",
    "\n",
    "$$\n",
    "\\mathbf{x}_{i+1} \\leftarrow \\mathbf{x}_i + \\epsilon \\nabla_{\\mathbf{x}} \\log p(\\mathbf{x}) + \\sqrt{2\\epsilon} \\, \\mathbf{z}_i, \\quad i = 0, 1, \\cdots, K,\n",
    "$$\n",
    "\n",
    "where $\\mathbf{z}_i \\sim \\mathcal{N}(0, \\mathbf{I})$. When $\\epsilon \\to 0$ and $K \\to \\infty$, $\\mathbf{x}_K$ obtained from the procedure converges to a sample from $p(\\mathbf{x})$ under some regularity conditions. In practice, the error is negligible when $\\epsilon$ is sufficiently small and $K$ is sufficiently large."
   ]
  },
  {
   "cell_type": "markdown",
   "metadata": {},
   "source": [
    "<div align=\"center\">\n",
    "\n",
    "<img src=\"figures/langevin.gif\"/>\n",
    "\n",
    "</div>"
   ]
  },
  {
   "cell_type": "markdown",
   "metadata": {},
   "source": [
    "Note that Langevin dynamics accesses $p(\\mathbf{x})$ only through $\\nabla_{\\mathbf{x}} \\log p(\\mathbf{x})$. Since $s_\\theta(\\mathbf{x}) \\approx \\nabla_{\\mathbf{x}} \\log p(\\mathbf{x})$, we can produce samples from our score-based model $s_\\theta(\\mathbf{x})$ by plugging it into the iterative procedure."
   ]
  },
  {
   "cell_type": "markdown",
   "metadata": {},
   "source": [
    "## 2.4 - Limitations of explicit score matching\n",
    "\n",
    "We’ve discussed how to train a score-based model with score matching, and then produce samples via Langevin dynamics. However, as showed by [Song & Ermon (2020)](https://arxiv.org/pdf/1907.05600), this naive approach has had limited success in practice. \n",
    "\n",
    "First, it requires us to have access to the true score of the data distribution, which we usually don’t have. And second, it fails to learn good estimates of the score in low density regions, where few data points are available for computing the score matching objective.\n",
    "\n",
    "This is expected as score matching minimizes the Fisher divergence:\n",
    "\n",
    "$$\n",
    "L_{\\text{ESM}_{p}}(\\theta) = \\int_{\\mathbb{R}^D} \\left\\| s_\\theta(\\mathbf{x}) - \\nabla_{\\mathbf{x}} \\log p(\\mathbf{x}) \\right\\|^2 p(\\mathbf{x}) \\, d\\mathbf{x}.\n",
    "$$\n",
    "\n",
    "Since the $\\ell_2$ differences between the true data score function and score-based model are weighted by $p(x)$, they are largely ignored in low density regions where $p(x)$ is small. This behavior can lead to subpar results."
   ]
  },
  {
   "cell_type": "markdown",
   "metadata": {},
   "source": [
    "<div align=\"center\">\n",
    "\n",
    "<img src=\"figures/noise.png\"/>\n",
    "\n",
    "</div>"
   ]
  },
  {
   "cell_type": "markdown",
   "metadata": {},
   "source": [
    "When sampling with **Langevin dynamics**, our initial sample is highly likely in low density regions when data reside in a high dimensional space. Therefore, having an inaccurate score-based model will derail Langevin dynamics from the very beginning of the procedure, preventing it from generating high quality samples that are representative of the data."
   ]
  },
  {
   "cell_type": "markdown",
   "metadata": {},
   "source": [
    "## 2.5 - Estimation of the true score\n",
    "\n",
    "### Implicit Score Matching\n",
    "\n",
    "[Hyvärinen (2005)](https://jmlr.org/papers/volume6/hyvarinen05a/hyvarinen05a.pdf) proved the following remarkable property:\n",
    "\n",
    "$$\n",
    "\\underbrace{\\mathbb{E}_{p(\\mathbf{x})} \\left[ \\left\\| s_\\theta(\\mathbf{x}) - \\nabla_{\\mathbf{x}} \\log p(\\mathbf{x}) \\right\\|^2 \\right]}_{L_{\\text{ESM}_{p}}(\\theta)}\n",
    "=\n",
    "\\underbrace{\\mathbb{E}_{p(\\mathbf{x})} \\left[ \\| s_\\theta(\\mathbf{x}) \\|^2 + \\sum_{i=1}^d \\frac{\\partial s_{\\theta, i}(\\mathbf{x_i})}{\\partial x_i} \\right] + C}_{L_{\\text{ISM}_{p}}(\\theta)} = \\underbrace{\\mathbb{E}_{p(\\mathbf{x})} \\left[ \\| s_\\theta(\\mathbf{x}) \\|^2 + \\mathrm{Tr}(\\nabla_x s_{\\theta, i}(\\mathbf{x})) \\right] + C}_{L_{\\text{ISM}_{p}}(\\theta)} \n",
    "$$\n",
    "\n",
    "where $s_{\\theta, i}(\\mathbf{x})$ denotes the $i$-th component of $s_\\theta(\\mathbf{x})$, and $C$ is a constant that does not depend on $\\theta$. This yields an **implicit score matching** objective $L_{\\text{ISM}_{p}}$ **that no longer requires having an explicit score target** for $p(\\mathbf{x})$, but is nevertheless equivalent to $L_{\\text{ESM}_{p_{\\text{data}}}}$.\n",
    "\n",
    "Hyvärinen formally shows that, provided $p(\\mathbf{x})$ and $s_\\theta(\\mathbf{x})$ satisfy some weak regularity conditions, we have:\n",
    "\n",
    "$$\n",
    "L_{\\text{ESM}_{p_{\\text{data}}}} \\;\\sim\\; L_{\\text{ISM}_{p_{\\text{data}}}}.\n",
    "$$"
   ]
  },
  {
   "cell_type": "markdown",
   "metadata": {},
   "source": [
    "### Finite Implicit Score Matching\n",
    "\n",
    "Since we only have samples $D_n$ from $p(\\mathbf{x})$, Hyvärinen proposes to optimize the finite-sample version of $L_{\\text{ISM}_{p}}$, which we will write $L_{\\text{ISM}_{p_0}}$.\n",
    "\n",
    "$$\n",
    "L_{\\text{ISM}_{p_0}}(\\theta)\n",
    "= \\mathbb{E}_{p_0(\\mathbf{x})} \\left[ \\| s_\\theta(\\mathbf{x}) \\|^2 + \\sum_{i=1}^d \\frac{\\partial s_{\\theta, i}(\\mathbf{x_i})}{\\partial x_i} \\right]\n",
    "= \\frac{1}{n} \\sum_{t=1}^n \\left( \\| s_\\theta(\\mathbf{x}) \\|^2 + \\sum_{i=1}^d \\frac{\\partial s_{\\theta, i}(\\mathbf{x_i})}{\\partial x_i} \\right).\n",
    "$$\n",
    "\n",
    "$L_{\\text{ISM}_{p_0}}$ is asymptotically equivalent to $L_{\\text{ISM}_{p}}$ when $n \\to \\infty$, and hence asymptotically equivalent to objective $L_{\\text{ESM}_p}$. This can be summarized as\n",
    "\n",
    "$$\n",
    "L_{\\text{ESM}_{p}} \\sim L_{\\text{ISM}_{p}} \\sim \\lim_{n \\to \\infty} L_{\\text{ISM}_{p_0}}.\n",
    "$$\n",
    "\n",
    "What happens in the transition from $L_{\\text{ISM}_{p}}$ to finite-sample version $L_{\\text{ISM}_{p_0}}$ is however not entirely clear. Concerns regarding the stability of the resulting criterion were raised by [Kingma and LeCun (2010)](https://proceedings.neurips.cc/paper_files/paper/2010/file/6f3e29a35278d71c7f65495871231324-Paper.pdf), who propose instead to optimize a regularized version of $L_{\\text{ISM}_{p_0}}$:\n",
    "\n",
    "$$\n",
    "L_{\\text{ISMreg}}(\\theta) = L_{\\text{ISM}_{p_0}}(\\theta) + \\lambda \\sum_{i=1}^d \\left( \\frac{\\partial s_{\\theta, i}(\\mathbf{x_i})}{\\partial x_i} \\right)^2,\n",
    "$$\n",
    "\n",
    "where the strength of the additional regularization term is controlled by hyperparameter $\\lambda$."
   ]
  },
  {
   "cell_type": "markdown",
   "metadata": {},
   "source": [
    "## 2.6 - Estimation in low density regions\n",
    "\n",
    "To bypass the difficulty of accurate score estimation in regions of low data density, we can **perturb** data points with noise and train score-based models on the noisy data points instead. When the noise magnitude is sufficiently large, it can populate low data density regions to improve the accuracy of estimated scores.\n",
    "\n",
    "---\n",
    "\n",
    "### Denoising Score Matching\n",
    "\n",
    "We can easily create a perturbed version of our original dataset by simply adding Gaussian noise, controlled by the variance $\\sigma^2$, to each data sample so that the corrupted version of $\\mathbf{x}$ is defined as:\n",
    "\n",
    "$$\n",
    "\\tilde{\\mathbf{x}} = \\mathbf{x} + \\boldsymbol{\\epsilon} \\quad \\text{with} \\quad \\boldsymbol{\\epsilon} \\sim \\mathcal{N}(0, \\sigma^2 \\cdot \\mathbf{I}).\n",
    "$$\n",
    "\n",
    "We will refer the corrupted data distribution as $q_\\sigma(\\tilde{\\mathbf{x}})$."
   ]
  },
  {
   "cell_type": "markdown",
   "metadata": {},
   "source": [
    "<div align=\"center\">\n",
    "\n",
    "<img src=\"figures/denoising_score.gif\"/>\n",
    "\n",
    "</div>"
   ]
  },
  {
   "cell_type": "markdown",
   "metadata": {},
   "source": [
    "Defining the explicit score-matching objective for $q_\\sigma(\\tilde{\\mathbf{x}})$ yields\n",
    "\n",
    "$$\n",
    "L_{\\text{ESM}_{q_\\sigma}}(\\theta) = \\mathbb{E}_{q_\\sigma(\\tilde{\\mathbf{x}})} \\left[ \\| s_\\theta(\\tilde{\\mathbf{x}}) - \\nabla_{\\tilde{\\mathbf{x}}} \\log q_\\sigma(\\tilde{\\mathbf{x}}) \\|^2 \\right].\n",
    "$$\n",
    "\n",
    "So far we still cannot evaluate the score. However, an elegant proof in the appendix of [Vincent (2010)](https://www.iro.umontreal.ca/~vincentp/Publications/smdae_techreport.pdf) inspired by ISM, shows that this objective can be considered as equivalent to the following **denoising score matching (DSM)** objective:\n",
    "\n",
    "$$\n",
    "L_{\\text{DSM}_{q_\\sigma}}(\\theta) = \\mathbb{E}_{q_\\sigma(\\tilde{\\mathbf{x}}, \\mathbf{x})} \\left[ \\| s_\\theta(\\tilde{\\mathbf{x}}) - \\nabla_{\\tilde{\\mathbf{x}}} \\log q_\\sigma(\\tilde{\\mathbf{x}} \\mid \\mathbf{x}) \\|^2 \\right]\n",
    "$$\n",
    "\n",
    "over the joint density $q_\\sigma(\\tilde{\\mathbf{x}}, \\mathbf{x}) = q_\\sigma(\\tilde{\\mathbf{x}} \\mid \\mathbf{x}) p(\\mathbf{x})$."
   ]
  },
  {
   "cell_type": "markdown",
   "metadata": {},
   "source": [
    "### Explicit score using transition kernel\n",
    "\n",
    "While $\\nabla_{\\tilde{\\mathbf{x}}} \\log q_\\sigma(\\tilde{\\mathbf{x}})$ is a complex distribution and we thus cannot evaluate it, $q_\\sigma(\\tilde{\\mathbf{x}} \\mid \\mathbf{x})$ follows a normal distribution $\\mathcal{N}(\\mathbf{x}, \\sigma^2 \\cdot \\mathbf{I})$ with mean $\\mathbf{x}$ and variance $\\sigma^2$, as\n",
    "\n",
    "$$\n",
    "\\tilde{\\mathbf{x}} = \\mathbf{x} + \\boldsymbol{\\epsilon} \\quad \\Longleftrightarrow \\quad \\tilde{\\mathbf{x}} \\sim \\mathcal{N}(\\mathbf{x}, \\sigma^2 \\cdot \\mathbf{I})\n",
    "$$\n",
    "\n",
    "with $\\boldsymbol{\\epsilon} \\sim \\mathcal{N}(0, \\sigma^2 \\cdot \\mathbf{I})$.\n",
    "\n",
    "\n",
    "This allows us to easily derive the gradient:\n",
    "\n",
    "$$\n",
    "\\begin{aligned}\n",
    "\\nabla_{\\tilde{\\mathbf{x}}} \\log q_\\sigma(\\tilde{\\mathbf{x}} \\mid \\mathbf{x}) \n",
    "&= \\nabla_{\\tilde{\\mathbf{x}}} \\log \\mathcal{N}(\\mathbf{x}, \\sigma^2 \\cdot \\mathbf{I}) \\\\\n",
    "&= \\nabla_{\\tilde{\\mathbf{x}}} \\log \\left( \\frac{\\exp\\left(-\\frac{1}{2} (\\tilde{\\mathbf{x}} - \\mathbf{x})^T (\\sigma^2 \\cdot \\mathbf{I})^{-1} (\\tilde{\\mathbf{x}} - \\mathbf{x})\\right)}{\\sqrt{(2\\pi)^d |\\sigma^2 \\cdot \\mathbf{I}|}} \\right) \\\\\n",
    "&= \\nabla_{\\tilde{\\mathbf{x}}} \\left[ -\\frac{1}{2} (\\tilde{\\mathbf{x}} - \\mathbf{x})^T (\\sigma^2 \\cdot \\mathbf{I})^{-1} (\\tilde{\\mathbf{x}} - \\mathbf{x}) \\right] \\\\\n",
    "&= -\\frac{1}{\\sigma^2} (\\tilde{\\mathbf{x}} - \\mathbf{x}) \\\\\n",
    "&= \\frac{\\mathbf{x} - \\tilde{\\mathbf{x}}}{\\sigma^2}.\n",
    "\\end{aligned}\n",
    "$$\n",
    "\n",
    "Intuitively, the gradient corresponds to the direction of moving from $\\tilde{\\mathbf{x}}$ back to the original $\\mathbf{x}$ (i.e., denoising it), and we want our score-based model $s_\\theta (\\tilde{\\mathbf{x}})$ to match that as best as it can.\n",
    "\n",
    "The following figure visualizes that for the $1D$ case. We can see that the direction of the denoising score $\\nabla{\\tilde{\\mathbf{x}}} \\log q_\\sigma (\\tilde{\\mathbf{x}} | \\mathbf{x})$ almost perfectly matches the direction of the ground truth score $\\nabla{\\mathbf{x}} \\log p (\\mathbf{x})$. Thus, we found an appropriate target for our score-matching objective, so that we can learn the score function."
   ]
  },
  {
   "cell_type": "markdown",
   "metadata": {},
   "source": [
    "<div align=\"center\">\n",
    "\n",
    "<img src=\"figures/pdf_score.gif\"/>\n",
    "\n",
    "</div>"
   ]
  },
  {
   "cell_type": "markdown",
   "metadata": {},
   "source": [
    "### Final loss\n",
    "\n",
    "Therefore, we will find the best model of the score function by optimizing the following denoising score matching (DSM) objective:\n",
    "\n",
    "$$\n",
    "L_{\\text{DSM}_{q_\\sigma}}(\\theta) = \\mathbb{E}_{q_\\sigma(\\tilde{\\mathbf{x}}, \\mathbf{x})} \\left[ \\left\\| s_\\theta(\\tilde{\\mathbf{x}}) - \\frac{\\mathbf{x} - \\tilde{\\mathbf{x}}}{\\sigma^2} \\right\\|^2 \\right]\n",
    "$$\n",
    "\n",
    "over the joint density $q_\\sigma(\\tilde{\\mathbf{x}}, \\mathbf{x}) = q_\\sigma(\\tilde{\\mathbf{x}} \\mid \\mathbf{x}) p(\\mathbf{x})$.\n",
    "\n",
    "\n",
    "With the denoising score matching objective we are able to circumvent the problem of not having access to the true score of our data distribution and additionally, with larger noise scales, also get signals in low density regions. Score matching objectives can directly be estimated on a dataset and optimized with stochastic gradient descent, analogous to the log-likelihood objective for training likelihood-based models (with known normalizing constants). We can train the score-based model by minimizing a score matching objective, **without requiring adversarial optimization**.\n",
    "\n",
    "On a first glance it seems like there exists a trade-off between small versus large additive noise scales $\\sigma^2$. With small noise scales the denoising score approximates the ground truth score well, but we cannot cover much of the low density regions, whereas with larger noise scales we can cover more of the low density regions, but our targets are less accurate, as they may not match the actual score anymore."
   ]
  },
  {
   "cell_type": "markdown",
   "metadata": {},
   "source": [
    "## 2.7 - Multiple noise perturbations\n",
    "\n",
    "To achieve the best of both worlds, we use multiple scales of noise perturbations simultaneously. Suppose we always perturb the data with isotropic Gaussian noise (noise has no directional preference), and let there be a total of $L$ increasing standard deviations $\\sigma_1 < \\sigma_2 < \\cdots < \\sigma_L$. We first perturb the data distribution $p(\\mathbf{x})$ with each of the Gaussian noise $\\mathcal{N}(0, \\sigma_i^2 \\mathbf{I})$, $i = 1, 2, \\cdots, L$, to obtain a noise-perturbed distribution:\n",
    "\n",
    "$$\n",
    "p_{\\sigma_i}(\\mathbf{x}) = \\int_{\\mathbb{R}^D} p_{data}(\\mathbf{y}) \\mathcal{N}(\\mathbf{x}; \\mathbf{y}, \\sigma_i^2 \\mathbf{I_D}) \\, d\\mathbf{y}.\n",
    "$$\n",
    "\n",
    "Note that we can easily draw samples from $p_{\\sigma_i}(\\mathbf{x})$ by sampling $\\mathbf{x} \\sim p(\\mathbf{x})$ and computing\n",
    "\n",
    "$$\n",
    "\\tilde{\\mathbf{x}} = \\mathbf{x} + \\sigma_i \\mathbf{z}, \\quad \\text{with } \\mathbf{z} \\sim \\mathcal{N}(0, \\mathbf{I}).\n",
    "$$"
   ]
  },
  {
   "cell_type": "markdown",
   "metadata": {},
   "source": [
    "<div align=\"center\">\n",
    "\n",
    "<img src=\"figures/noise.gif\"/>\n",
    "\n",
    "</div>"
   ]
  },
  {
   "cell_type": "markdown",
   "metadata": {},
   "source": [
    "### Noise Conditional Score-Based Model\n",
    "\n",
    "Next, we estimate the score function of each noise-perturbed distribution, $\\nabla_{\\mathbf{x}} \\log p_{\\sigma_i}(\\mathbf{x})$, by training a **Noise Conditional Score-Based Model** $s_\\theta(\\mathbf{x}, i)$ (also called a **Noise Conditional Score Network**, or **NCSN**), when parameterized with a neural network using score matching, such that:\n",
    "\n",
    "$$\n",
    "s_\\theta(\\mathbf{x}, i) \\approx \\nabla_{\\mathbf{x}} \\log p_{\\sigma_i}(\\mathbf{x}) \\quad \\text{for all } i = 1, 2, \\cdots, L.\n",
    "$$\n",
    "\n",
    "The training objective for $s_\\theta(\\mathbf{x}, i)$ is a weighted sum of Fisher divergences for all noise scales. \n",
    "\n",
    "Then, we combine this loss for all $\\sigma \\in \\{\\sigma_i\\}_{i=1}^L$ to get one unified objective:\n",
    "\n",
    "$$\n",
    "L_{\\mathrm{DSM}}(\\theta, \\sigma_1, \\dots, \\sigma_L) = \\frac{1}{L} \\sum_{i=1}^L \\lambda(i) \\, L_{\\mathrm{DSM}_{p_{\\sigma_i}}}(\\theta) = \\frac{1}{L} \\sum_{i=1}^L \\lambda(i) \\, \\mathbb{E}_{p_{\\sigma_i}(\\tilde{\\mathbf{x}}, \\mathbf{x})} \\left[ \\left\\| s_\\theta(\\mathbf{x}, i) - \\frac{\\mathbf{x} - \\tilde{\\mathbf{x}}}{\\sigma_{i}^2} \\right\\|^2 \\right]\n",
    "$$\n",
    "\n",
    "where $\\lambda(i) \\in \\mathbb{R}_{> 0}$ is a positive weighting function, often chosen to be $\\lambda(i) = \\sigma_i^2$. Assuming $s_\\theta(\\mathbf{x})$ has enough capacity, $s_{\\theta^*}(\\mathbf{x})$ minimizes the loss function if and only if $s_{\\theta^*}(\\mathbf{x}, i) = \\nabla_{\\mathbf{x}} \\log p_{\\sigma_i}(\\mathbf{x})$ almost surely for all $i \\in \\{1, 2, \\cdots, L\\}$, because this is a combination of $L$ denoising score matching objectives.\n",
    "\n",
    "\n",
    "After training our noise-conditional score-based model $s_\\theta(\\mathbf{x}, i)$, we can produce samples from it by running Langevin dynamics for $i = L, L - 1, \\cdots, 1$ in sequence. Defined by Algorithm 1 in [Song & Ermon (2020)](https://arxiv.org/pdf/1907.05600), this method is called **annealed Langevin dynamics** since the noise scale decreases gradually over time."
   ]
  },
  {
   "cell_type": "markdown",
   "metadata": {},
   "source": [
    "<div align=\"center\">\n",
    "\n",
    "<img src=\"figures/annealedLD.gif\"/>\n",
    "\n",
    "</div>"
   ]
  },
  {
   "cell_type": "markdown",
   "metadata": {},
   "source": [
    "### Choice of noise scales and weighting function\n",
    "\n",
    "As explained by [Song & Ermon (2020)](https://arxiv.org/pdf/1907.05600), there can be many possible choices of $\\lambda(\\cdot)$. Ideally, we hope that the values of $\\lambda(i) \\, L_{\\mathrm{DSM}_{p_{\\sigma_i}}}(\\theta)$ for all $({\\sigma}_{i})_{i=1\\dots L}$ are roughly of the same order of magnitude. Empirically, we observe that when the score networks are trained to optimality, we approximately have $\\left\\| \\mathbf{s}_{\\theta}(\\mathbf{x}, i)\\right \\| \\propto \\frac{1}{\\sigma}$. \n",
    "\n",
    "This inspires to choose $\\lambda(\\sigma) = \\sigma^2$. Because under this choice, we have\n",
    "\n",
    "$$\n",
    "\\lambda(i) \\, L_{\\mathrm{DSM}_{p_{\\sigma_i}}}(\\theta) = \\mathbb{E}_{p_{\\sigma_i}(\\tilde{\\mathbf{x}}, \\mathbf{x})} \\left[ \\left\\| \\sigma s_\\theta(\\mathbf{x}, i) - \\frac{\\mathbf{x} - \\tilde{\\mathbf{x}}}{\\sigma_i} \\right\\|^2 \\right].\n",
    "$$\n",
    "\n",
    "Since $\\frac{\\mathbf{x} - \\tilde{\\mathbf{x}}}{\\sigma} \\sim \\mathcal{N}(0, I)$ and $\\left\\| \\sigma s_{\\theta}(\\mathbf{x}, i)\\right \\| \\propto 1$, we can easily conclude that the order of magnitude of $\\lambda(i) \\, J_{\\mathrm{DSM}_{p_{\\sigma_i}}}(\\theta)$ does not depend on $\\sigma$. So, in the objective loss, we obtain a balanced weighting between the different noise scales.\n",
    "\n",
    "Furthermore, the objective requires no adversarial training, no surrogate losses, and no sampling from the score network during training. Also, it does not require $s_\\theta(\\mathbf{x}, \\sigma)$ to have special architectures in order to be tractable."
   ]
  },
  {
   "cell_type": "markdown",
   "metadata": {},
   "source": [
    "## 2.8 - Denoising Diffusion Probabilistic Models (DDPM)"
   ]
  },
  {
   "cell_type": "markdown",
   "metadata": {},
   "source": [
    "`Présenter ici les DDPM`\n",
    "\n",
    "Several diffusion-based generative models have been proposed with similar ideas, including diffusion probabilistic models ([Sohl-Dickstein et al., 2015](https://arxiv.org/pdf/1503.03585)), noise-conditioned score network (NCSN; [Song & Ermon (2020)](https://arxiv.org/pdf/1907.05600)), and denoising diffusion probabilistic models (DDPM; [Ho et al. 2020](https://arxiv.org/pdf/2006.11239))."
   ]
  },
  {
   "cell_type": "markdown",
   "metadata": {},
   "source": [
    "# 3 - Score-based generative modeling with SDEs"
   ]
  },
  {
   "cell_type": "markdown",
   "metadata": {},
   "source": [
    "When the number of noise scales approaches infinity, we essentially perturb the data distribution with continuously growing levels of noise. In this case, the noise perturbation procedure is solution of an **hand designed** SDE of the following form.\n",
    "\n",
    "$$\n",
    "d\\mathbf{x} = \\mathbf{f}(\\mathbf{x}, t) \\, dt + g(t) \\, d\\mathbf{w}\n",
    "$$\n",
    "\n",
    "As introduced by [Song & Ermon (2021)](https://arxiv.org/pdf/2011.13456), there are numerous ways to add noise perturbations, and the choice of SDEs is not unique. For example, the following SDE:\n",
    "\n",
    "$$\n",
    "d\\mathbf{x} = e^t \\, d\\mathbf{w}\n",
    "$$\n",
    "\n",
    "perturbs data with a Gaussian noise of mean zero and exponentially growing variance, which is analogous to perturbing data with \n",
    "\n",
    "$$\n",
    "\\mathcal{N}(0, \\sigma_1^2 \\mathbf{I}), \\, \\mathcal{N}(0, \\sigma_2^2 \\mathbf{I}), \\, \\cdots, \\, \\mathcal{N}(0, \\sigma_L^2 \\mathbf{I})\n",
    "$$\n",
    "\n",
    "when $\\sigma_1 < \\sigma_2 < \\cdots < \\sigma_L$ is a geometric progression. Therefore, the SDE should be viewed as part of the model, much like $\\{\\sigma_1, \\sigma_2, \\cdots, \\sigma_L\\}$."
   ]
  },
  {
   "cell_type": "markdown",
   "metadata": {},
   "source": [
    "## 3.1 - Backward SDE\n",
    "\n",
    "Importantly, any SDE has a corresponding **reverse SDE** ([Anderson (1982)](https://core.ac.uk/download/pdf/82826666.pdf)), whose closed form is given by:\n",
    "\n",
    "$$d\\mathbf{x} = \\left[ \\mathbf{f}(\\mathbf{x}, t) - g^2(t) \\nabla_{\\mathbf{x}} \\log p_t(\\mathbf{x}) \\right] dt + g(t) \\, d\\mathbf{w}.$$\n",
    "\n",
    "Here, $dt$ represents a **negative infinitesimal time step**, since the SDE needs to be solved **backwards in time** (from $t = T$ to $t = 0$). In order to compute the reverse SDE, we need to estimate $\\nabla_{\\mathbf{x}} \\log p_t(\\mathbf{x})$, which is exactly the **score function** of $p_t(\\mathbf{x})$."
   ]
  },
  {
   "cell_type": "markdown",
   "metadata": {},
   "source": [
    "<div align=\"center\">\n",
    "\n",
    "<img src=\"figures/sde_schematic.jpg\" width=\"70%\"/>\n",
    "\n",
    "</div>"
   ]
  },
  {
   "cell_type": "markdown",
   "metadata": {},
   "source": [
    "## 3.1 - Continuous weighted sum of denoising score matching objectives\n",
    "\n",
    "Solving the reverse SDE requires us to know the terminal distribution $p_T(\\mathbf{x})$, and the score function $\\nabla_{\\mathbf{x}} \\log p_t(\\mathbf{x})$. By design, the former is close to the prior distribution $\\pi(\\mathbf{x})$, which is fully tractable.\n",
    "\n",
    "In order to estimate $\\nabla_{\\mathbf{x}} \\log p_t(\\mathbf{x})$, we train a **Time-Dependent Score-Based Model** $s_\\theta(\\mathbf{x}, t)$, such that \n",
    "\n",
    "$$s_\\theta(\\mathbf{x}, t) \\approx \\nabla_{\\mathbf{x}} \\log p_t(\\mathbf{x}).$$\n",
    "\n",
    "This is analogous to the noise-conditional score-based model $s_\\theta(\\mathbf{x}, i)$ used for finite noise scales, trained such that \n",
    "\n",
    "$$\n",
    "s_\\theta(\\mathbf{x}, i) \\approx \\nabla_{\\mathbf{x}} \\log p_{\\sigma_i}(\\mathbf{x}).\n",
    "$$\n",
    "\n",
    "---\n",
    "\n",
    "Our training objective for $s_\\theta(\\mathbf{x}, t)$ is a continuous weighted sum of denoising score matching objectives, given by:\n",
    "\n",
    "$$\n",
    "\\begin{align}\n",
    "L(\\theta; (\\sigma_t)_{t \\in \\mathbb{R}_{+}}) &= \\mathbb{E}_{t \\sim \\mathcal{U}(0, T)} \\left[ \\lambda(t) \\, \\mathbb{E}_{(\\mathbf{x}(t), \\mathbf{x}(0)) \\sim p_{0t}(\\mathbf{x}(t), \\mathbf{x}(0))} \\left[ \\left\\| s_\\theta(\\mathbf{x}(t), t) - \\nabla_{\\mathbf{x}(t)} \\log p_{0t}(\\mathbf{x}(t) \\mid \\mathbf{x}(0)) \\right\\|^2 \\right] \\right] \\\\\n",
    "&= \\mathbb{E}_{t \\sim \\mathcal{U}(0, T)} \\left[ \\lambda(t) \\, \\mathbb{E}_{\\mathbf{x}(0) \\sim p_0(\\mathbf{x})} \\, \\mathbb{E}_{\\mathbf{x}(t) \\sim p_{0t}(\\mathbf{x}(t) \\mid \\mathbf{x}(0))} \\left[ \\left\\| s_\\theta(\\mathbf{x}(t), t) - \\nabla_{\\mathbf{x}(t)} \\log p_{0t}(\\mathbf{x}(t) \\mid \\mathbf{x}(0)) \\right\\|^2 \\right] \\right]\n",
    "\\end{align}\n",
    "$$\n",
    "\n",
    "\n",
    "where $\\mathcal{U}(0, T)$ denotes a uniform distribution over the time interval $[0, T]$, and $\\lambda : \\mathbb{R} \\to \\mathbb{R}_{>0}$ is a positive weighting function.\n",
    "\n",
    "Such as in DDPM, we will use:\n",
    "\n",
    "$$\n",
    "\\lambda(t) \\sim \\frac{1}{\\mathbb{E} \\left[ \\left\\| \\nabla_{\\mathbf{x}(t)} \\log p(\\mathbf{x}(t) \\mid \\mathbf{x}(0)) \\right\\|^2 \\right]}\n",
    "$$\n",
    "\n",
    "to balance the magnitude of different score matching losses across time.\n",
    "\n",
    "---\n",
    "\n",
    "Once our score-based model $s_\\theta(\\mathbf{x}, t)$ is trained to optimality, we can plug it into the expression of the reverse SDE in to obtain an estimated reverse SDE:\n",
    "\n",
    "$$\n",
    "d\\mathbf{x} = \\left[ \\mathbf{f}(\\mathbf{x}, t) - g^2(t) s_\\theta(\\mathbf{x}, t) \\right] dt + g(t) \\, d\\mathbf{w}.\n",
    "$$\n",
    "\n",
    "We can start with $\\mathbf{x}(T) \\sim \\pi$, and solve the reverse SDE to obtain a sample $\\mathbf{x}(0)$. Let us denote the distribution of $\\mathbf{x}(0)$ obtained in such a way as $p_\\theta$. When the score-based model $s_\\theta(\\mathbf{x}, t)$ is well-trained, we have $p_\\theta \\approx p_0$, in which case $\\mathbf{x}(0)$ is an approximate sample from the data distribution $p_0$."
   ]
  },
  {
   "cell_type": "markdown",
   "metadata": {},
   "source": [
    "## 3.2 - Time-Dependent Score-Based Model\n",
    "\n",
    "Similar to likelihood-based generative models and GANs, the design of model architectures plays an important role in generating high-quality samples. Since the output of our noise conditional score network $s_\\theta(\\mathbf{x}, i)$ has the same shape as the input image $\\mathbf{x}$, we draw inspiration from successful model architectures for dense prediction of images (e.g., semantic segmentation). \n",
    "\n",
    "### U-net architecture\n",
    "\n",
    "Typically, we can use the architecture design of [**U-Net**](https://arxiv.org/pdf/1505.04597) which have been proved very successful in semantic segmentation. Our goal is then to learn a score function $\\nabla_x \\log p_t(x)$ that depends on both the noisy input $x^{(t)}$ and the time step $t$, using a U-net."
   ]
  },
  {
   "cell_type": "markdown",
   "metadata": {},
   "source": [
    "<div align=\"center\">\n",
    "\n",
    "<img src=\"figures/U-net.png\"/>\n",
    "\n",
    "</div>"
   ]
  },
  {
   "cell_type": "markdown",
   "metadata": {},
   "source": [
    "### Spectral bias\n",
    "\n",
    "However, neural networks, particularly MLPs and CNNs (like [U-Net (2015)](https://arxiv.org/pdf/1505.04597)), are not naturally designed to process continuous inputs such as $t$. A naive approach, like feeding raw $t$ values or low-degree polynomial embeddings, often leads to poor generalization—especially when the model needs to represent functions that vary rapidly with time. More precisely, they tend to bias toward learning low-frequency functions (i.e., smooth, slowly varying functions)—a phenomenon known as the **spectral bias**.\n",
    "\n",
    "For example, let's say we have a picture and we want to predict RGB color values for each pixel based on its coordinates using a neural network. [Rahaman et al. (2019)](https://arxiv.org/pdf/1806.08734) observed that enriching input data with high-frequency components facilitates model training. Regular MLPs struggle with learning such functions, which is clearly visible in the blurry image below. However, when we use **Gaussian Fourier features** proposed by [Tancik et al., 2020](https://arxiv.org/abs/2006.10739), we can see that the learned image is much sharper. Enriching input feature space geometry allowed the model to learn high-frequency components much faster:"
   ]
  },
  {
   "cell_type": "markdown",
   "metadata": {},
   "source": [
    "<div align=\"center\">\n",
    "\n",
    "<img src=\"figures/GFF.gif\"/>\n",
    "\n",
    "</div>"
   ]
  },
  {
   "cell_type": "markdown",
   "metadata": {},
   "source": [
    "### Time Embedding via Gaussian Fourier Features\n",
    "\n",
    "Let $t \\in \\mathbb{R}$ be a continuous scalar (the time step), and let $\\mathbf{W} \\in \\mathbb{R}^{D/2}$ be a vector of random frequencies sampled from a normal distribution:\n",
    "\n",
    "$$\n",
    "\\mathbf{W}_i \\sim \\mathcal{N}(0, \\sigma^2)\n",
    "$$\n",
    "\n",
    "We define the embedding:\n",
    "\n",
    "$$\n",
    "\\gamma(t) = \\left[\\sin(2\\pi t \\cdot \\mathbf{W}),\\ \\cos(2\\pi t \\cdot \\mathbf{W})\\right] \\in \\mathbb{R}^{D}\n",
    "$$\n",
    "\n",
    "This transforms the 1D input $t$ into a $D$-dimensional representation capturing multiple frequency bands. The sinusoidal structure ensures that nearby values of $t$ can be linearly combined to reconstruct complex functions, while the random frequencies help to decorrelate different components. In practice, this embedding behaves similarly to a positional encoding (as in [Transformers (2017)](https://arxiv.org/abs/1706.03762)), but generalized to continuous domains using random projections."
   ]
  },
  {
   "cell_type": "markdown",
   "metadata": {},
   "source": [
    "# 4 - Code"
   ]
  },
  {
   "cell_type": "markdown",
   "metadata": {},
   "source": [
    "- Trouver une valeur optimale pour sigma (pourquoi sigma = 25 ?)\n",
    "- Tester plusieurs valeurs pour n_epochs\n",
    "- Regarder Pickl\n",
    "- Corriger le - (+) (tester les deux)\n",
    "- Pourquoi on rescale a la fin du U-net (c'est équivalent mais plus facile à écrire comme ça dans le code même si moins intuitif)\n",
    "- Sampler avec différentes valeurs de num_steps\n",
    "- Set seed(0)\n",
    "- Utiliser adamW\n",
    "- Quel learning rate est meilleur pour les modèles de diffusion ?\n",
    "- ES avec delta"
   ]
  },
  {
   "cell_type": "markdown",
   "metadata": {},
   "source": [
    "### Imports, device, seed"
   ]
  },
  {
   "cell_type": "code",
   "execution_count": 54,
   "metadata": {},
   "outputs": [],
   "source": [
    "from utils.imports import *"
   ]
  },
  {
   "cell_type": "code",
   "execution_count": 56,
   "metadata": {},
   "outputs": [
    {
     "data": {
      "text/plain": [
       "device(type='cpu')"
      ]
     },
     "execution_count": 56,
     "metadata": {},
     "output_type": "execute_result"
    }
   ],
   "source": [
    "# CPU or GPU\n",
    "device = torch.device('cuda' if torch.cuda.is_available() else 'cpu')\n",
    "device"
   ]
  },
  {
   "cell_type": "code",
   "execution_count": 57,
   "metadata": {},
   "outputs": [],
   "source": [
    "import random\n",
    "def set_seed(seed):\n",
    "    \"\"\"\n",
    "    Set random seed for reproducibility.\n",
    "\n",
    "    Args:\n",
    "        seed: int\n",
    "    \"\"\"\n",
    "    random.seed(seed)\n",
    "    np.random.seed(seed)\n",
    "    torch.manual_seed(seed)\n",
    "    torch.cuda.manual_seed(seed)\n",
    "    torch.cuda.manual_seed_all(seed)\n",
    "    try:\n",
    "        os.environ['PYTHONHASHSEED'] = str(seed)\n",
    "    except:\n",
    "        pass\n",
    "set_seed(0)"
   ]
  },
  {
   "cell_type": "markdown",
   "metadata": {},
   "source": [
    "## MNIST Dataset and hyperparameters"
   ]
  },
  {
   "cell_type": "markdown",
   "metadata": {},
   "source": [
    "We consider the well-studied MNIST dataset ([Y. LeCun](https://www.lri.fr/~marc/Master2/MNIST_doc.pdf)), in which the data’s intrinsic dimensionality is clearly less than $D$. The dataset consists of gray-valued digital images, each having $28×28$ pixels and showing one hand-written digit. The dataset provides a finite number of images that are divided into $60,000$ training and $10,000$ test images. While each image contains $n = 784$ pixels, the support of $X$ will likely lie in a subset of a much lower dimension. Also, since the images are grouped into ten diﬀerent classes, one can expect the support to be disjoint\n",
    "with a substantial distance between the diﬀerent clusters."
   ]
  },
  {
   "cell_type": "code",
   "execution_count": 5,
   "metadata": {},
   "outputs": [],
   "source": [
    "batch_size = 32\n",
    "lr = 1e-4\n",
    "n_epochs = 50\n",
    "num_steps = 500"
   ]
  },
  {
   "cell_type": "code",
   "execution_count": 6,
   "metadata": {},
   "outputs": [
    {
     "data": {
      "text/plain": [
       "60000"
      ]
     },
     "execution_count": 6,
     "metadata": {},
     "output_type": "execute_result"
    }
   ],
   "source": [
    "trainset = MNIST('./data', train=True, transform=transforms.ToTensor(), download=True)\n",
    "train_loader = DataLoader(trainset, batch_size=batch_size, shuffle=True)\n",
    "len(trainset)"
   ]
  },
  {
   "cell_type": "code",
   "execution_count": 7,
   "metadata": {},
   "outputs": [
    {
     "data": {
      "text/plain": [
       "10000"
      ]
     },
     "execution_count": 7,
     "metadata": {},
     "output_type": "execute_result"
    }
   ],
   "source": [
    "testset = MNIST('./data', train=False, transform=transforms.ToTensor(), download=True)\n",
    "test_loader = DataLoader(testset, batch_size=batch_size, shuffle=True)\n",
    "len(testset)"
   ]
  },
  {
   "cell_type": "markdown",
   "metadata": {},
   "source": [
    "## 4.1 - Variance Exploding SDE\n",
    "\n",
    "Let's consider the following SDE:\n",
    "\n",
    "$$\\begin{align}\n",
    "d \\mathbf{x} = \\sigma^t d\\mathbf{w}, \\quad t\\in[0,1]\n",
    "\\end{align}$$\n",
    "\n",
    "#### SDE solution and transition density\n",
    "\n",
    "This is a linear SDE with time-dependent diffusion. Since there is **no drift** term, the only source of evolution of $\\mathbf{x}(t)$ is Brownian noise. The process is therefore Gaussian, as it is a linear sum of Brownian motion, which preserves normality. Consequently, the EDS solution is a Gaussian random variable. All we need to do is find its mean and covariance, which characterize the distribution. Thus, the solution is given by integrating the noise term:\n",
    "\n",
    "$$\n",
    "\\mathbf{x}(t) = \\mathbf{x}(0) + \\int_0^t \\sigma^s d\\mathbf{w}_s\n",
    "$$\n",
    "\n",
    "The term $\\int_0^t \\sigma^s d\\mathbf{w}_s$ is a Wiener integral since $f(s) = \\sigma^s$ is deterministic. This implies that:\n",
    "\n",
    "$$\n",
    "\\mathbb{E}[\\mathbf{x}(t)] = \\mathbb{E}[\\mathbf{x}(0)] + \n",
    "\\underbrace{\\mathbb{E}\\left[\\int_0^t \\sigma^s \\, d\\mathbf{w}(s)\\right]}_{= 0}\n",
    "= \\mathbf{x}(0)\n",
    "$$\n",
    "\n",
    "$$\n",
    "\\text{Var}[\\mathbf{x}(t)] = \\text{Cov}\\left[\\int_0^t \\sigma^s d\\mathbf{w}(s)\\right] = \\int_0^t \\sigma^{2s} ds \\cdot \\mathbf{I} = \\int_0^t e^{2s \\log \\sigma} ds = \\left[\\frac{1}{2 \\log \\sigma} e^{2s \\log \\sigma}\\right]_0^t = \\frac{1}{2 \\log \\sigma}(\\sigma^{2t} - 1) \\cdot \\mathbf{I}\n",
    "$$\n",
    "\n",
    "We now conclude:\n",
    "\n",
    "$$\n",
    "p_{0t}(\\mathbf{x}(t) \\mid \\mathbf{x}(0)) = \\mathcal{N}\\left(\\mathbf{x}(t); \\mathbf{x}(0), \\frac{1}{2 \\log \\sigma}(\\sigma^{2t} - 1) \\mathbf{I}\\right)\n",
    "$$\n",
    "\n",
    "---\n",
    "\n",
    "\n",
    "We can define the weighting function $\\lambda(t)$ as:\n",
    "\n",
    "$$\n",
    "\\lambda(t) = \\frac{1}{2 \\log \\sigma}(\\sigma^{2t} - 1)\n",
    "$$\n",
    "\n",
    "which corresponds exactly to the variance term in the transition kernel.\n",
    "\n",
    "---\n",
    "\n",
    "When $\\sigma$ is large, the prior distribution $p_{t=1}$ is then:\n",
    "\n",
    "$$p_{t=1}(\\mathbf{x}) = \\int_{\\mathbb{R}^D} p_0(\\mathbf{y})\\mathcal{N}\\bigg(\\mathbf{x}; \\mathbf{y}, \\frac{1}{2 \\log \\sigma}(\\sigma^2 - 1)\\mathbf{I}\\bigg) d \\mathbf{y} \\approx \\mathbf{N}\\bigg(\\mathbf{x}; \\mathbb{E}_{y\\sim p_0}[\\mathbf{y}], \\frac{1}{2 \\log \\sigma}(\\sigma^2 - 1)\\mathbf{I}\\bigg) \\approx \\mathbf{N}\\bigg(\\mathbf{x}; \\mathbf{0}, \\frac{1}{2 \\log \\sigma}(\\sigma^2 - 1)\\mathbf{I}\\bigg)$$\n",
    "\n",
    "which is approximately independent of the data distribution and is easy to sample from. We have assumed that $p_0$ is centered, which is the case, for example, when the dataset is normalized."
   ]
  },
  {
   "cell_type": "code",
   "execution_count": 8,
   "metadata": {},
   "outputs": [],
   "source": [
    "sigma = 25.0\n",
    "\n",
    "# Diffusion coefficient: g(t) = sigma^t\n",
    "def diffusion_VE(t: torch.Tensor) -> torch.Tensor:\n",
    "    t = t.to(device)\n",
    "    return sigma ** t\n",
    "\n",
    "# Standard deviation of the perturbation kernel p_{0t}(x(t) | x(0))\n",
    "def perturbation_kernel_std_VE(t: torch.Tensor) -> torch.Tensor:\n",
    "    t = t.to(device)\n",
    "    return torch.sqrt((sigma ** (2 * t) - 1.) / (2. * np.log(sigma)))"
   ]
  },
  {
   "cell_type": "markdown",
   "metadata": {},
   "source": [
    "#### Loss function\n",
    "\n",
    "Since the the conditional distribution $p_{0t}(\\mathbf{x}(t) \\mid \\mathbf{x}(0))$ is a Gaussian, we can compute the score analytically:\n",
    "\n",
    "$$\n",
    "\\begin{align}\n",
    "\\nabla_{\\mathbf{x}(t)} \\log p_{0t}(\\mathbf{x}(t) \\mid \\mathbf{x}(0))\n",
    "&= \\nabla_{\\mathbf{x}(t)} \\log \\left[\\frac{1}{(2\\pi)^{D/2} |\\lambda(t)\\mathbf{I}|^{1/2}} \n",
    "    \\exp\\left( -\\frac{1}{2} (\\mathbf{x}(t) - \\mathbf{x}(0))^\\top \\left( \\lambda(t)\\mathbf{I} \\right)^{-1}(\\mathbf{x}(t) - \\mathbf{x}(0)) \\right) \\right] \\\\\n",
    "&= \\nabla_{\\mathbf{x}(t)} \\log \\left[\\frac{1}{(2\\pi \\lambda(t))^{D/2}} \\exp\\left( -\\frac{1}{2\\lambda(t)} \\|\\mathbf{x}(t) - \\mathbf{x}(0)\\|^2 \\right) \\right] \\\\\n",
    "&= \\nabla_{\\mathbf{x}(t)} \\left[-\\frac{D}{2} \\log(2\\pi \\lambda(t)) - \\frac{1}{2\\lambda(t)} \\|\\mathbf{x}(t) - \\mathbf{x}(0)\\|^2 \\right]\\\\\n",
    "&= -\\frac{1}{\\lambda(t)} \\left(\\mathbf{x}(t) - \\mathbf{x}(0)\\right)\n",
    "\\end{align}\n",
    "$$\n",
    "\n",
    "---\n",
    "\n",
    "Recall that because the conditional distribution is Gaussian: $p_{0t}(\\mathbf{x}(t) \\mid \\mathbf{x}(0)) = \\mathcal{N}(\\mathbf{x}(0), \\lambda(t) \\mathbf{I})$, sampling from this distribution is equivalent to: $\\mathbf{x}(t) = \\mathbf{x}(0) + \\sqrt{\\lambda(t)} \\mathbf{z},$ where $\\mathbf{z} \\sim \\mathcal{N}(\\mathbf{0}, \\mathbf{I}).$\n",
    "\n",
    "Thus the final loss is given by:\n",
    "\n",
    "$$\n",
    "\\begin{align}\n",
    "\\mathcal{L}(\\theta) &= \\mathbb{E}_{t \\sim \\mathcal{U}(0, T)} \\left[ \\lambda(t) \\, \\mathbb{E}_{\\mathbf{x}(0) \\sim p_0(\\mathbf{x})} \\, \\mathbb{E}_{\\mathbf{x}(t) \\sim p_{0t}(\\mathbf{x}(t) \\mid \\mathbf{x}(0))} \\left[ \\left\\| s_\\theta(\\mathbf{x}(t), t) - \\nabla_{\\mathbf{x}(t)} \\log p_{0t}(\\mathbf{x}(t) \\mid \\mathbf{x}(0)) \\right\\|^2 \\right] \\right]\\\\\n",
    "&= \\mathbb{E}_{t \\sim \\mathcal{U}(0, 1)} \\left[ \\lambda(t) \\, \\mathbb{E}_{\\mathbf{x}(0) \\sim p_0(\\mathbf{x})} \\, \\mathbb{E}_{\\mathbf{z} \\sim \\mathcal{N}(\\mathbf{0}, \\mathbf{I})} \\left[ \\left\\| s_\\theta(\\mathbf{x}(t), t) + \\frac{1}{\\lambda(t)} (\\mathbf{x}(t) - \\mathbf{x}(0)) \\right\\|^2 \\right] \\right]\\\\\n",
    "&= \\mathbb{E}_{t \\sim \\mathcal{U}(0, 1)} \\left[ \\lambda(t) \\, \\mathbb{E}_{\\mathbf{x}(0) \\sim p_0(\\mathbf{x})} \\, \\mathbb{E}_{\\mathbf{z} \\sim \\mathcal{N}(\\mathbf{0}, \\mathbf{I})} \\left[ \\left\\| s_\\theta(\\mathbf{x}(0) + \\sqrt{\\lambda(t)} \\mathbf{z}, t) + \\frac{1}{\\sqrt{\\lambda(t)}} \\mathbf{z} \\right\\|^2 \\right] \\right] \\\\\n",
    "&= \\mathbb{E}_{t \\sim \\mathcal{U}(0, 1)} \\left[ \\mathbb{E}_{\\mathbf{x}(0) \\sim p_0(\\mathbf{x})} \\, \\mathbb{E}_{\\mathbf{z} \\sim \\mathcal{N}(\\mathbf{0}, \\mathbf{I})} \\left[ \\left\\| \\sqrt{\\lambda(t)} \\, s_\\theta(\\mathbf{x}(0) + \\sqrt{\\lambda(t)} \\mathbf{z}, t) + \\mathbf{z} \\right\\|^2 \\right] \\right]\n",
    "\\end{align}\n",
    "$$"
   ]
  },
  {
   "cell_type": "markdown",
   "metadata": {},
   "source": [
    "### Training with Early Stopping"
   ]
  },
  {
   "cell_type": "code",
   "execution_count": 61,
   "metadata": {},
   "outputs": [],
   "source": [
    "# 1. Initialisation du modèle et de l’optimiseur\n",
    "score_model_VE = ScoreNet(perturbation_kernel_std=perturbation_kernel_std_VE)\n",
    "score_model_VE = torch.nn.DataParallel(score_model_VE).to(device)\n",
    "optimizer_VE = Adam(score_model_VE.parameters(), lr=lr)"
   ]
  },
  {
   "cell_type": "code",
   "execution_count": 62,
   "metadata": {},
   "outputs": [],
   "source": [
    "# 2. Hyperparamètres de l'early stopping\n",
    "patience = 5\n",
    "counter = 0\n",
    "ckpt_path_VE = 'checkpoints/ckpt_best_VE.pth'"
   ]
  },
  {
   "cell_type": "code",
   "execution_count": 63,
   "metadata": {
    "scrolled": true
   },
   "outputs": [
    {
     "data": {
      "application/vnd.jupyter.widget-view+json": {
       "model_id": "7af6ae831ca3497582ca9daf47fb1d50",
       "version_major": 2,
       "version_minor": 0
      },
      "text/plain": [
       "  0%|          | 0/50 [00:00<?, ?it/s]"
      ]
     },
     "metadata": {},
     "output_type": "display_data"
    },
    {
     "data": {
      "application/vnd.jupyter.widget-view+json": {
       "model_id": "",
       "version_major": 2,
       "version_minor": 0
      },
      "text/plain": [
       "  0%|          | 0/1875 [00:00<?, ?it/s]"
      ]
     },
     "metadata": {},
     "output_type": "display_data"
    },
    {
     "name": "stdout",
     "output_type": "stream",
     "text": [
      "Epoch 1: Train Loss = 344.4551, Val Loss = 99.7921\n"
     ]
    },
    {
     "data": {
      "application/vnd.jupyter.widget-view+json": {
       "model_id": "",
       "version_major": 2,
       "version_minor": 0
      },
      "text/plain": [
       "  0%|          | 0/1875 [00:00<?, ?it/s]"
      ]
     },
     "metadata": {},
     "output_type": "display_data"
    },
    {
     "name": "stdout",
     "output_type": "stream",
     "text": [
      "Epoch 2: Train Loss = 76.5726, Val Loss = 62.4097\n"
     ]
    },
    {
     "data": {
      "application/vnd.jupyter.widget-view+json": {
       "model_id": "",
       "version_major": 2,
       "version_minor": 0
      },
      "text/plain": [
       "  0%|          | 0/1875 [00:00<?, ?it/s]"
      ]
     },
     "metadata": {},
     "output_type": "display_data"
    },
    {
     "name": "stdout",
     "output_type": "stream",
     "text": [
      "Epoch 3: Train Loss = 55.7643, Val Loss = 50.0291\n"
     ]
    },
    {
     "data": {
      "application/vnd.jupyter.widget-view+json": {
       "model_id": "",
       "version_major": 2,
       "version_minor": 0
      },
      "text/plain": [
       "  0%|          | 0/1875 [00:00<?, ?it/s]"
      ]
     },
     "metadata": {},
     "output_type": "display_data"
    },
    {
     "name": "stdout",
     "output_type": "stream",
     "text": [
      "Epoch 4: Train Loss = 45.9678, Val Loss = 42.2833\n"
     ]
    },
    {
     "data": {
      "application/vnd.jupyter.widget-view+json": {
       "model_id": "",
       "version_major": 2,
       "version_minor": 0
      },
      "text/plain": [
       "  0%|          | 0/1875 [00:00<?, ?it/s]"
      ]
     },
     "metadata": {},
     "output_type": "display_data"
    },
    {
     "name": "stdout",
     "output_type": "stream",
     "text": [
      "Epoch 5: Train Loss = 40.9416, Val Loss = 38.9028\n"
     ]
    },
    {
     "data": {
      "application/vnd.jupyter.widget-view+json": {
       "model_id": "",
       "version_major": 2,
       "version_minor": 0
      },
      "text/plain": [
       "  0%|          | 0/1875 [00:00<?, ?it/s]"
      ]
     },
     "metadata": {},
     "output_type": "display_data"
    },
    {
     "name": "stdout",
     "output_type": "stream",
     "text": [
      "Epoch 6: Train Loss = 38.1277, Val Loss = 36.1462\n"
     ]
    },
    {
     "data": {
      "application/vnd.jupyter.widget-view+json": {
       "model_id": "",
       "version_major": 2,
       "version_minor": 0
      },
      "text/plain": [
       "  0%|          | 0/1875 [00:00<?, ?it/s]"
      ]
     },
     "metadata": {},
     "output_type": "display_data"
    },
    {
     "name": "stdout",
     "output_type": "stream",
     "text": [
      "Epoch 7: Train Loss = 36.2120, Val Loss = 34.6014\n"
     ]
    },
    {
     "data": {
      "application/vnd.jupyter.widget-view+json": {
       "model_id": "",
       "version_major": 2,
       "version_minor": 0
      },
      "text/plain": [
       "  0%|          | 0/1875 [00:00<?, ?it/s]"
      ]
     },
     "metadata": {},
     "output_type": "display_data"
    },
    {
     "name": "stdout",
     "output_type": "stream",
     "text": [
      "Epoch 8: Train Loss = 34.7364, Val Loss = 33.9955\n"
     ]
    },
    {
     "data": {
      "application/vnd.jupyter.widget-view+json": {
       "model_id": "",
       "version_major": 2,
       "version_minor": 0
      },
      "text/plain": [
       "  0%|          | 0/1875 [00:00<?, ?it/s]"
      ]
     },
     "metadata": {},
     "output_type": "display_data"
    },
    {
     "name": "stdout",
     "output_type": "stream",
     "text": [
      "Epoch 9: Train Loss = 33.5810, Val Loss = 33.4057\n"
     ]
    },
    {
     "data": {
      "application/vnd.jupyter.widget-view+json": {
       "model_id": "",
       "version_major": 2,
       "version_minor": 0
      },
      "text/plain": [
       "  0%|          | 0/1875 [00:00<?, ?it/s]"
      ]
     },
     "metadata": {},
     "output_type": "display_data"
    },
    {
     "name": "stdout",
     "output_type": "stream",
     "text": [
      "Epoch 10: Train Loss = 32.7275, Val Loss = 32.1335\n"
     ]
    },
    {
     "data": {
      "application/vnd.jupyter.widget-view+json": {
       "model_id": "",
       "version_major": 2,
       "version_minor": 0
      },
      "text/plain": [
       "  0%|          | 0/1875 [00:00<?, ?it/s]"
      ]
     },
     "metadata": {},
     "output_type": "display_data"
    },
    {
     "name": "stdout",
     "output_type": "stream",
     "text": [
      "Epoch 11: Train Loss = 32.2798, Val Loss = 31.4860\n"
     ]
    },
    {
     "data": {
      "application/vnd.jupyter.widget-view+json": {
       "model_id": "",
       "version_major": 2,
       "version_minor": 0
      },
      "text/plain": [
       "  0%|          | 0/1875 [00:00<?, ?it/s]"
      ]
     },
     "metadata": {},
     "output_type": "display_data"
    },
    {
     "name": "stdout",
     "output_type": "stream",
     "text": [
      "Epoch 12: Train Loss = 31.5026, Val Loss = 31.1780\n"
     ]
    },
    {
     "data": {
      "application/vnd.jupyter.widget-view+json": {
       "model_id": "",
       "version_major": 2,
       "version_minor": 0
      },
      "text/plain": [
       "  0%|          | 0/1875 [00:00<?, ?it/s]"
      ]
     },
     "metadata": {},
     "output_type": "display_data"
    },
    {
     "name": "stdout",
     "output_type": "stream",
     "text": [
      "Epoch 13: Train Loss = 31.0523, Val Loss = 31.0493\n"
     ]
    },
    {
     "data": {
      "application/vnd.jupyter.widget-view+json": {
       "model_id": "",
       "version_major": 2,
       "version_minor": 0
      },
      "text/plain": [
       "  0%|          | 0/1875 [00:00<?, ?it/s]"
      ]
     },
     "metadata": {},
     "output_type": "display_data"
    },
    {
     "name": "stdout",
     "output_type": "stream",
     "text": [
      "Epoch 14: Train Loss = 30.6539, Val Loss = 30.3004\n"
     ]
    },
    {
     "data": {
      "application/vnd.jupyter.widget-view+json": {
       "model_id": "",
       "version_major": 2,
       "version_minor": 0
      },
      "text/plain": [
       "  0%|          | 0/1875 [00:00<?, ?it/s]"
      ]
     },
     "metadata": {},
     "output_type": "display_data"
    },
    {
     "name": "stdout",
     "output_type": "stream",
     "text": [
      "Epoch 15: Train Loss = 30.2943, Val Loss = 29.9562\n"
     ]
    },
    {
     "data": {
      "application/vnd.jupyter.widget-view+json": {
       "model_id": "",
       "version_major": 2,
       "version_minor": 0
      },
      "text/plain": [
       "  0%|          | 0/1875 [00:00<?, ?it/s]"
      ]
     },
     "metadata": {},
     "output_type": "display_data"
    },
    {
     "name": "stdout",
     "output_type": "stream",
     "text": [
      "Epoch 16: Train Loss = 29.9581, Val Loss = 29.7184\n"
     ]
    },
    {
     "data": {
      "application/vnd.jupyter.widget-view+json": {
       "model_id": "",
       "version_major": 2,
       "version_minor": 0
      },
      "text/plain": [
       "  0%|          | 0/1875 [00:00<?, ?it/s]"
      ]
     },
     "metadata": {},
     "output_type": "display_data"
    },
    {
     "name": "stdout",
     "output_type": "stream",
     "text": [
      "Epoch 17: Train Loss = 29.8153, Val Loss = 29.9155\n"
     ]
    },
    {
     "data": {
      "application/vnd.jupyter.widget-view+json": {
       "model_id": "",
       "version_major": 2,
       "version_minor": 0
      },
      "text/plain": [
       "  0%|          | 0/1875 [00:00<?, ?it/s]"
      ]
     },
     "metadata": {},
     "output_type": "display_data"
    },
    {
     "name": "stdout",
     "output_type": "stream",
     "text": [
      "Epoch 18: Train Loss = 29.4191, Val Loss = 29.3477\n"
     ]
    },
    {
     "data": {
      "application/vnd.jupyter.widget-view+json": {
       "model_id": "",
       "version_major": 2,
       "version_minor": 0
      },
      "text/plain": [
       "  0%|          | 0/1875 [00:00<?, ?it/s]"
      ]
     },
     "metadata": {},
     "output_type": "display_data"
    },
    {
     "name": "stdout",
     "output_type": "stream",
     "text": [
      "Epoch 19: Train Loss = 29.2494, Val Loss = 28.9203\n"
     ]
    },
    {
     "data": {
      "application/vnd.jupyter.widget-view+json": {
       "model_id": "",
       "version_major": 2,
       "version_minor": 0
      },
      "text/plain": [
       "  0%|          | 0/1875 [00:00<?, ?it/s]"
      ]
     },
     "metadata": {},
     "output_type": "display_data"
    },
    {
     "name": "stdout",
     "output_type": "stream",
     "text": [
      "Epoch 20: Train Loss = 28.8588, Val Loss = 28.6457\n"
     ]
    },
    {
     "data": {
      "application/vnd.jupyter.widget-view+json": {
       "model_id": "",
       "version_major": 2,
       "version_minor": 0
      },
      "text/plain": [
       "  0%|          | 0/1875 [00:00<?, ?it/s]"
      ]
     },
     "metadata": {},
     "output_type": "display_data"
    },
    {
     "name": "stdout",
     "output_type": "stream",
     "text": [
      "Epoch 21: Train Loss = 28.7767, Val Loss = 28.6278\n"
     ]
    },
    {
     "data": {
      "application/vnd.jupyter.widget-view+json": {
       "model_id": "c3d10bebe1dc447a8a774a0c9104ebeb",
       "version_major": 2,
       "version_minor": 0
      },
      "text/plain": [
       "  0%|          | 0/1875 [00:00<?, ?it/s]"
      ]
     },
     "metadata": {},
     "output_type": "display_data"
    },
    {
     "ename": "KeyboardInterrupt",
     "evalue": "",
     "output_type": "error",
     "traceback": [
      "\u001b[0;31m---------------------------------------------------------------------------\u001b[0m",
      "\u001b[0;31mKeyboardInterrupt\u001b[0m                         Traceback (most recent call last)",
      "Cell \u001b[0;32mIn[63], line 13\u001b[0m\n\u001b[1;32m     11\u001b[0m \u001b[38;5;28;01mfor\u001b[39;00m x, _ \u001b[38;5;129;01min\u001b[39;00m tqdm(train_loader, leave\u001b[38;5;241m=\u001b[39m\u001b[38;5;28;01mFalse\u001b[39;00m):\n\u001b[1;32m     12\u001b[0m     x \u001b[38;5;241m=\u001b[39m x\u001b[38;5;241m.\u001b[39mto(device)\n\u001b[0;32m---> 13\u001b[0m     loss \u001b[38;5;241m=\u001b[39m \u001b[43mloss_VE\u001b[49m\u001b[43m(\u001b[49m\u001b[43mscore_model_VE\u001b[49m\u001b[43m,\u001b[49m\u001b[43m \u001b[49m\u001b[43mx\u001b[49m\u001b[43m,\u001b[49m\u001b[43m \u001b[49m\u001b[43mperturbation_kernel_std_VE\u001b[49m\u001b[43m)\u001b[49m\n\u001b[1;32m     14\u001b[0m     optimizer_VE\u001b[38;5;241m.\u001b[39mzero_grad()\n\u001b[1;32m     15\u001b[0m     loss\u001b[38;5;241m.\u001b[39mbackward()\n",
      "File \u001b[0;32m~/Desktop/Score Based Diffusion Model/models/loss.py:40\u001b[0m, in \u001b[0;36mloss_VE\u001b[0;34m(model, x, perturbation_kernel_std, eps)\u001b[0m\n\u001b[1;32m     37\u001b[0m x_t \u001b[38;5;241m=\u001b[39m x \u001b[38;5;241m+\u001b[39m std[:, \u001b[38;5;28;01mNone\u001b[39;00m, \u001b[38;5;28;01mNone\u001b[39;00m, \u001b[38;5;28;01mNone\u001b[39;00m] \u001b[38;5;241m*\u001b[39m z  \u001b[38;5;66;03m# x(t) = x(0) + sqrt(lambda(t)) * z\u001b[39;00m\n\u001b[1;32m     39\u001b[0m \u001b[38;5;66;03m# Model prediction (unnormalized score)\u001b[39;00m\n\u001b[0;32m---> 40\u001b[0m score_pred \u001b[38;5;241m=\u001b[39m \u001b[43mmodel\u001b[49m\u001b[43m(\u001b[49m\u001b[43mx_t\u001b[49m\u001b[43m,\u001b[49m\u001b[43m \u001b[49m\u001b[43mt\u001b[49m\u001b[43m)\u001b[49m  \u001b[38;5;66;03m# shape: (batch_size, 1, H, W)\u001b[39;00m\n\u001b[1;32m     42\u001b[0m \u001b[38;5;66;03m# Weighting by std(t) in the loss (normalization)\u001b[39;00m\n\u001b[1;32m     43\u001b[0m weighted_score \u001b[38;5;241m=\u001b[39m std[:, \u001b[38;5;28;01mNone\u001b[39;00m, \u001b[38;5;28;01mNone\u001b[39;00m, \u001b[38;5;28;01mNone\u001b[39;00m] \u001b[38;5;241m*\u001b[39m score_pred\n",
      "File \u001b[0;32m/Library/Frameworks/Python.framework/Versions/3.10/lib/python3.10/site-packages/torch/nn/modules/module.py:1739\u001b[0m, in \u001b[0;36mModule._wrapped_call_impl\u001b[0;34m(self, *args, **kwargs)\u001b[0m\n\u001b[1;32m   1737\u001b[0m     \u001b[38;5;28;01mreturn\u001b[39;00m \u001b[38;5;28mself\u001b[39m\u001b[38;5;241m.\u001b[39m_compiled_call_impl(\u001b[38;5;241m*\u001b[39margs, \u001b[38;5;241m*\u001b[39m\u001b[38;5;241m*\u001b[39mkwargs)  \u001b[38;5;66;03m# type: ignore[misc]\u001b[39;00m\n\u001b[1;32m   1738\u001b[0m \u001b[38;5;28;01melse\u001b[39;00m:\n\u001b[0;32m-> 1739\u001b[0m     \u001b[38;5;28;01mreturn\u001b[39;00m \u001b[38;5;28;43mself\u001b[39;49m\u001b[38;5;241;43m.\u001b[39;49m\u001b[43m_call_impl\u001b[49m\u001b[43m(\u001b[49m\u001b[38;5;241;43m*\u001b[39;49m\u001b[43margs\u001b[49m\u001b[43m,\u001b[49m\u001b[43m \u001b[49m\u001b[38;5;241;43m*\u001b[39;49m\u001b[38;5;241;43m*\u001b[39;49m\u001b[43mkwargs\u001b[49m\u001b[43m)\u001b[49m\n",
      "File \u001b[0;32m/Library/Frameworks/Python.framework/Versions/3.10/lib/python3.10/site-packages/torch/nn/modules/module.py:1750\u001b[0m, in \u001b[0;36mModule._call_impl\u001b[0;34m(self, *args, **kwargs)\u001b[0m\n\u001b[1;32m   1745\u001b[0m \u001b[38;5;66;03m# If we don't have any hooks, we want to skip the rest of the logic in\u001b[39;00m\n\u001b[1;32m   1746\u001b[0m \u001b[38;5;66;03m# this function, and just call forward.\u001b[39;00m\n\u001b[1;32m   1747\u001b[0m \u001b[38;5;28;01mif\u001b[39;00m \u001b[38;5;129;01mnot\u001b[39;00m (\u001b[38;5;28mself\u001b[39m\u001b[38;5;241m.\u001b[39m_backward_hooks \u001b[38;5;129;01mor\u001b[39;00m \u001b[38;5;28mself\u001b[39m\u001b[38;5;241m.\u001b[39m_backward_pre_hooks \u001b[38;5;129;01mor\u001b[39;00m \u001b[38;5;28mself\u001b[39m\u001b[38;5;241m.\u001b[39m_forward_hooks \u001b[38;5;129;01mor\u001b[39;00m \u001b[38;5;28mself\u001b[39m\u001b[38;5;241m.\u001b[39m_forward_pre_hooks\n\u001b[1;32m   1748\u001b[0m         \u001b[38;5;129;01mor\u001b[39;00m _global_backward_pre_hooks \u001b[38;5;129;01mor\u001b[39;00m _global_backward_hooks\n\u001b[1;32m   1749\u001b[0m         \u001b[38;5;129;01mor\u001b[39;00m _global_forward_hooks \u001b[38;5;129;01mor\u001b[39;00m _global_forward_pre_hooks):\n\u001b[0;32m-> 1750\u001b[0m     \u001b[38;5;28;01mreturn\u001b[39;00m \u001b[43mforward_call\u001b[49m\u001b[43m(\u001b[49m\u001b[38;5;241;43m*\u001b[39;49m\u001b[43margs\u001b[49m\u001b[43m,\u001b[49m\u001b[43m \u001b[49m\u001b[38;5;241;43m*\u001b[39;49m\u001b[38;5;241;43m*\u001b[39;49m\u001b[43mkwargs\u001b[49m\u001b[43m)\u001b[49m\n\u001b[1;32m   1752\u001b[0m result \u001b[38;5;241m=\u001b[39m \u001b[38;5;28;01mNone\u001b[39;00m\n\u001b[1;32m   1753\u001b[0m called_always_called_hooks \u001b[38;5;241m=\u001b[39m \u001b[38;5;28mset\u001b[39m()\n",
      "File \u001b[0;32m/Library/Frameworks/Python.framework/Versions/3.10/lib/python3.10/site-packages/torch/nn/parallel/data_parallel.py:173\u001b[0m, in \u001b[0;36mDataParallel.forward\u001b[0;34m(self, *inputs, **kwargs)\u001b[0m\n\u001b[1;32m    171\u001b[0m \u001b[38;5;28;01mwith\u001b[39;00m torch\u001b[38;5;241m.\u001b[39mautograd\u001b[38;5;241m.\u001b[39mprofiler\u001b[38;5;241m.\u001b[39mrecord_function(\u001b[38;5;124m\"\u001b[39m\u001b[38;5;124mDataParallel.forward\u001b[39m\u001b[38;5;124m\"\u001b[39m):\n\u001b[1;32m    172\u001b[0m     \u001b[38;5;28;01mif\u001b[39;00m \u001b[38;5;129;01mnot\u001b[39;00m \u001b[38;5;28mself\u001b[39m\u001b[38;5;241m.\u001b[39mdevice_ids:\n\u001b[0;32m--> 173\u001b[0m         \u001b[38;5;28;01mreturn\u001b[39;00m \u001b[38;5;28;43mself\u001b[39;49m\u001b[38;5;241;43m.\u001b[39;49m\u001b[43mmodule\u001b[49m\u001b[43m(\u001b[49m\u001b[38;5;241;43m*\u001b[39;49m\u001b[43minputs\u001b[49m\u001b[43m,\u001b[49m\u001b[43m \u001b[49m\u001b[38;5;241;43m*\u001b[39;49m\u001b[38;5;241;43m*\u001b[39;49m\u001b[43mkwargs\u001b[49m\u001b[43m)\u001b[49m\n\u001b[1;32m    175\u001b[0m     \u001b[38;5;28;01mfor\u001b[39;00m t \u001b[38;5;129;01min\u001b[39;00m chain(\u001b[38;5;28mself\u001b[39m\u001b[38;5;241m.\u001b[39mmodule\u001b[38;5;241m.\u001b[39mparameters(), \u001b[38;5;28mself\u001b[39m\u001b[38;5;241m.\u001b[39mmodule\u001b[38;5;241m.\u001b[39mbuffers()):\n\u001b[1;32m    176\u001b[0m         \u001b[38;5;28;01mif\u001b[39;00m t\u001b[38;5;241m.\u001b[39mdevice \u001b[38;5;241m!=\u001b[39m \u001b[38;5;28mself\u001b[39m\u001b[38;5;241m.\u001b[39msrc_device_obj:\n",
      "File \u001b[0;32m/Library/Frameworks/Python.framework/Versions/3.10/lib/python3.10/site-packages/torch/nn/modules/module.py:1739\u001b[0m, in \u001b[0;36mModule._wrapped_call_impl\u001b[0;34m(self, *args, **kwargs)\u001b[0m\n\u001b[1;32m   1737\u001b[0m     \u001b[38;5;28;01mreturn\u001b[39;00m \u001b[38;5;28mself\u001b[39m\u001b[38;5;241m.\u001b[39m_compiled_call_impl(\u001b[38;5;241m*\u001b[39margs, \u001b[38;5;241m*\u001b[39m\u001b[38;5;241m*\u001b[39mkwargs)  \u001b[38;5;66;03m# type: ignore[misc]\u001b[39;00m\n\u001b[1;32m   1738\u001b[0m \u001b[38;5;28;01melse\u001b[39;00m:\n\u001b[0;32m-> 1739\u001b[0m     \u001b[38;5;28;01mreturn\u001b[39;00m \u001b[38;5;28;43mself\u001b[39;49m\u001b[38;5;241;43m.\u001b[39;49m\u001b[43m_call_impl\u001b[49m\u001b[43m(\u001b[49m\u001b[38;5;241;43m*\u001b[39;49m\u001b[43margs\u001b[49m\u001b[43m,\u001b[49m\u001b[43m \u001b[49m\u001b[38;5;241;43m*\u001b[39;49m\u001b[38;5;241;43m*\u001b[39;49m\u001b[43mkwargs\u001b[49m\u001b[43m)\u001b[49m\n",
      "File \u001b[0;32m/Library/Frameworks/Python.framework/Versions/3.10/lib/python3.10/site-packages/torch/nn/modules/module.py:1750\u001b[0m, in \u001b[0;36mModule._call_impl\u001b[0;34m(self, *args, **kwargs)\u001b[0m\n\u001b[1;32m   1745\u001b[0m \u001b[38;5;66;03m# If we don't have any hooks, we want to skip the rest of the logic in\u001b[39;00m\n\u001b[1;32m   1746\u001b[0m \u001b[38;5;66;03m# this function, and just call forward.\u001b[39;00m\n\u001b[1;32m   1747\u001b[0m \u001b[38;5;28;01mif\u001b[39;00m \u001b[38;5;129;01mnot\u001b[39;00m (\u001b[38;5;28mself\u001b[39m\u001b[38;5;241m.\u001b[39m_backward_hooks \u001b[38;5;129;01mor\u001b[39;00m \u001b[38;5;28mself\u001b[39m\u001b[38;5;241m.\u001b[39m_backward_pre_hooks \u001b[38;5;129;01mor\u001b[39;00m \u001b[38;5;28mself\u001b[39m\u001b[38;5;241m.\u001b[39m_forward_hooks \u001b[38;5;129;01mor\u001b[39;00m \u001b[38;5;28mself\u001b[39m\u001b[38;5;241m.\u001b[39m_forward_pre_hooks\n\u001b[1;32m   1748\u001b[0m         \u001b[38;5;129;01mor\u001b[39;00m _global_backward_pre_hooks \u001b[38;5;129;01mor\u001b[39;00m _global_backward_hooks\n\u001b[1;32m   1749\u001b[0m         \u001b[38;5;129;01mor\u001b[39;00m _global_forward_hooks \u001b[38;5;129;01mor\u001b[39;00m _global_forward_pre_hooks):\n\u001b[0;32m-> 1750\u001b[0m     \u001b[38;5;28;01mreturn\u001b[39;00m \u001b[43mforward_call\u001b[49m\u001b[43m(\u001b[49m\u001b[38;5;241;43m*\u001b[39;49m\u001b[43margs\u001b[49m\u001b[43m,\u001b[49m\u001b[43m \u001b[49m\u001b[38;5;241;43m*\u001b[39;49m\u001b[38;5;241;43m*\u001b[39;49m\u001b[43mkwargs\u001b[49m\u001b[43m)\u001b[49m\n\u001b[1;32m   1752\u001b[0m result \u001b[38;5;241m=\u001b[39m \u001b[38;5;28;01mNone\u001b[39;00m\n\u001b[1;32m   1753\u001b[0m called_always_called_hooks \u001b[38;5;241m=\u001b[39m \u001b[38;5;28mset\u001b[39m()\n",
      "File \u001b[0;32m~/Desktop/Score Based Diffusion Model/models/score_net.py:165\u001b[0m, in \u001b[0;36mScoreNet.forward\u001b[0;34m(self, x, t)\u001b[0m\n\u001b[1;32m    163\u001b[0m h2 \u001b[38;5;241m=\u001b[39m \u001b[38;5;28mself\u001b[39m\u001b[38;5;241m.\u001b[39mact(\u001b[38;5;28mself\u001b[39m\u001b[38;5;241m.\u001b[39mgnorm2(\u001b[38;5;28mself\u001b[39m\u001b[38;5;241m.\u001b[39mconv2(h1) \u001b[38;5;241m+\u001b[39m \u001b[38;5;28mself\u001b[39m\u001b[38;5;241m.\u001b[39mdense2(embed)))\n\u001b[1;32m    164\u001b[0m h3 \u001b[38;5;241m=\u001b[39m \u001b[38;5;28mself\u001b[39m\u001b[38;5;241m.\u001b[39mact(\u001b[38;5;28mself\u001b[39m\u001b[38;5;241m.\u001b[39mgnorm3(\u001b[38;5;28mself\u001b[39m\u001b[38;5;241m.\u001b[39mconv3(h2) \u001b[38;5;241m+\u001b[39m \u001b[38;5;28mself\u001b[39m\u001b[38;5;241m.\u001b[39mdense3(embed)))\n\u001b[0;32m--> 165\u001b[0m h4 \u001b[38;5;241m=\u001b[39m \u001b[38;5;28mself\u001b[39m\u001b[38;5;241m.\u001b[39mact(\u001b[38;5;28mself\u001b[39m\u001b[38;5;241m.\u001b[39mgnorm4(\u001b[38;5;28;43mself\u001b[39;49m\u001b[38;5;241;43m.\u001b[39;49m\u001b[43mconv4\u001b[49m\u001b[43m(\u001b[49m\u001b[43mh3\u001b[49m\u001b[43m)\u001b[49m \u001b[38;5;241m+\u001b[39m \u001b[38;5;28mself\u001b[39m\u001b[38;5;241m.\u001b[39mdense4(embed)))\n\u001b[1;32m    167\u001b[0m \u001b[38;5;66;03m# Decoder\u001b[39;00m\n\u001b[1;32m    168\u001b[0m h \u001b[38;5;241m=\u001b[39m \u001b[38;5;28mself\u001b[39m\u001b[38;5;241m.\u001b[39mact(\u001b[38;5;28mself\u001b[39m\u001b[38;5;241m.\u001b[39mtgnorm4(\u001b[38;5;28mself\u001b[39m\u001b[38;5;241m.\u001b[39mtconv4(h4) \u001b[38;5;241m+\u001b[39m \u001b[38;5;28mself\u001b[39m\u001b[38;5;241m.\u001b[39mdense5(embed)))\n",
      "File \u001b[0;32m/Library/Frameworks/Python.framework/Versions/3.10/lib/python3.10/site-packages/torch/nn/modules/module.py:1739\u001b[0m, in \u001b[0;36mModule._wrapped_call_impl\u001b[0;34m(self, *args, **kwargs)\u001b[0m\n\u001b[1;32m   1737\u001b[0m     \u001b[38;5;28;01mreturn\u001b[39;00m \u001b[38;5;28mself\u001b[39m\u001b[38;5;241m.\u001b[39m_compiled_call_impl(\u001b[38;5;241m*\u001b[39margs, \u001b[38;5;241m*\u001b[39m\u001b[38;5;241m*\u001b[39mkwargs)  \u001b[38;5;66;03m# type: ignore[misc]\u001b[39;00m\n\u001b[1;32m   1738\u001b[0m \u001b[38;5;28;01melse\u001b[39;00m:\n\u001b[0;32m-> 1739\u001b[0m     \u001b[38;5;28;01mreturn\u001b[39;00m \u001b[38;5;28;43mself\u001b[39;49m\u001b[38;5;241;43m.\u001b[39;49m\u001b[43m_call_impl\u001b[49m\u001b[43m(\u001b[49m\u001b[38;5;241;43m*\u001b[39;49m\u001b[43margs\u001b[49m\u001b[43m,\u001b[49m\u001b[43m \u001b[49m\u001b[38;5;241;43m*\u001b[39;49m\u001b[38;5;241;43m*\u001b[39;49m\u001b[43mkwargs\u001b[49m\u001b[43m)\u001b[49m\n",
      "File \u001b[0;32m/Library/Frameworks/Python.framework/Versions/3.10/lib/python3.10/site-packages/torch/nn/modules/module.py:1750\u001b[0m, in \u001b[0;36mModule._call_impl\u001b[0;34m(self, *args, **kwargs)\u001b[0m\n\u001b[1;32m   1745\u001b[0m \u001b[38;5;66;03m# If we don't have any hooks, we want to skip the rest of the logic in\u001b[39;00m\n\u001b[1;32m   1746\u001b[0m \u001b[38;5;66;03m# this function, and just call forward.\u001b[39;00m\n\u001b[1;32m   1747\u001b[0m \u001b[38;5;28;01mif\u001b[39;00m \u001b[38;5;129;01mnot\u001b[39;00m (\u001b[38;5;28mself\u001b[39m\u001b[38;5;241m.\u001b[39m_backward_hooks \u001b[38;5;129;01mor\u001b[39;00m \u001b[38;5;28mself\u001b[39m\u001b[38;5;241m.\u001b[39m_backward_pre_hooks \u001b[38;5;129;01mor\u001b[39;00m \u001b[38;5;28mself\u001b[39m\u001b[38;5;241m.\u001b[39m_forward_hooks \u001b[38;5;129;01mor\u001b[39;00m \u001b[38;5;28mself\u001b[39m\u001b[38;5;241m.\u001b[39m_forward_pre_hooks\n\u001b[1;32m   1748\u001b[0m         \u001b[38;5;129;01mor\u001b[39;00m _global_backward_pre_hooks \u001b[38;5;129;01mor\u001b[39;00m _global_backward_hooks\n\u001b[1;32m   1749\u001b[0m         \u001b[38;5;129;01mor\u001b[39;00m _global_forward_hooks \u001b[38;5;129;01mor\u001b[39;00m _global_forward_pre_hooks):\n\u001b[0;32m-> 1750\u001b[0m     \u001b[38;5;28;01mreturn\u001b[39;00m \u001b[43mforward_call\u001b[49m\u001b[43m(\u001b[49m\u001b[38;5;241;43m*\u001b[39;49m\u001b[43margs\u001b[49m\u001b[43m,\u001b[49m\u001b[43m \u001b[49m\u001b[38;5;241;43m*\u001b[39;49m\u001b[38;5;241;43m*\u001b[39;49m\u001b[43mkwargs\u001b[49m\u001b[43m)\u001b[49m\n\u001b[1;32m   1752\u001b[0m result \u001b[38;5;241m=\u001b[39m \u001b[38;5;28;01mNone\u001b[39;00m\n\u001b[1;32m   1753\u001b[0m called_always_called_hooks \u001b[38;5;241m=\u001b[39m \u001b[38;5;28mset\u001b[39m()\n",
      "File \u001b[0;32m/Library/Frameworks/Python.framework/Versions/3.10/lib/python3.10/site-packages/torch/nn/modules/conv.py:554\u001b[0m, in \u001b[0;36mConv2d.forward\u001b[0;34m(self, input)\u001b[0m\n\u001b[1;32m    553\u001b[0m \u001b[38;5;28;01mdef\u001b[39;00m \u001b[38;5;21mforward\u001b[39m(\u001b[38;5;28mself\u001b[39m, \u001b[38;5;28minput\u001b[39m: Tensor) \u001b[38;5;241m-\u001b[39m\u001b[38;5;241m>\u001b[39m Tensor:\n\u001b[0;32m--> 554\u001b[0m     \u001b[38;5;28;01mreturn\u001b[39;00m \u001b[38;5;28;43mself\u001b[39;49m\u001b[38;5;241;43m.\u001b[39;49m\u001b[43m_conv_forward\u001b[49m\u001b[43m(\u001b[49m\u001b[38;5;28;43minput\u001b[39;49m\u001b[43m,\u001b[49m\u001b[43m \u001b[49m\u001b[38;5;28;43mself\u001b[39;49m\u001b[38;5;241;43m.\u001b[39;49m\u001b[43mweight\u001b[49m\u001b[43m,\u001b[49m\u001b[43m \u001b[49m\u001b[38;5;28;43mself\u001b[39;49m\u001b[38;5;241;43m.\u001b[39;49m\u001b[43mbias\u001b[49m\u001b[43m)\u001b[49m\n",
      "File \u001b[0;32m/Library/Frameworks/Python.framework/Versions/3.10/lib/python3.10/site-packages/torch/nn/modules/conv.py:549\u001b[0m, in \u001b[0;36mConv2d._conv_forward\u001b[0;34m(self, input, weight, bias)\u001b[0m\n\u001b[1;32m    537\u001b[0m \u001b[38;5;28;01mif\u001b[39;00m \u001b[38;5;28mself\u001b[39m\u001b[38;5;241m.\u001b[39mpadding_mode \u001b[38;5;241m!=\u001b[39m \u001b[38;5;124m\"\u001b[39m\u001b[38;5;124mzeros\u001b[39m\u001b[38;5;124m\"\u001b[39m:\n\u001b[1;32m    538\u001b[0m     \u001b[38;5;28;01mreturn\u001b[39;00m F\u001b[38;5;241m.\u001b[39mconv2d(\n\u001b[1;32m    539\u001b[0m         F\u001b[38;5;241m.\u001b[39mpad(\n\u001b[1;32m    540\u001b[0m             \u001b[38;5;28minput\u001b[39m, \u001b[38;5;28mself\u001b[39m\u001b[38;5;241m.\u001b[39m_reversed_padding_repeated_twice, mode\u001b[38;5;241m=\u001b[39m\u001b[38;5;28mself\u001b[39m\u001b[38;5;241m.\u001b[39mpadding_mode\n\u001b[0;32m   (...)\u001b[0m\n\u001b[1;32m    547\u001b[0m         \u001b[38;5;28mself\u001b[39m\u001b[38;5;241m.\u001b[39mgroups,\n\u001b[1;32m    548\u001b[0m     )\n\u001b[0;32m--> 549\u001b[0m \u001b[38;5;28;01mreturn\u001b[39;00m \u001b[43mF\u001b[49m\u001b[38;5;241;43m.\u001b[39;49m\u001b[43mconv2d\u001b[49m\u001b[43m(\u001b[49m\n\u001b[1;32m    550\u001b[0m \u001b[43m    \u001b[49m\u001b[38;5;28;43minput\u001b[39;49m\u001b[43m,\u001b[49m\u001b[43m \u001b[49m\u001b[43mweight\u001b[49m\u001b[43m,\u001b[49m\u001b[43m \u001b[49m\u001b[43mbias\u001b[49m\u001b[43m,\u001b[49m\u001b[43m \u001b[49m\u001b[38;5;28;43mself\u001b[39;49m\u001b[38;5;241;43m.\u001b[39;49m\u001b[43mstride\u001b[49m\u001b[43m,\u001b[49m\u001b[43m \u001b[49m\u001b[38;5;28;43mself\u001b[39;49m\u001b[38;5;241;43m.\u001b[39;49m\u001b[43mpadding\u001b[49m\u001b[43m,\u001b[49m\u001b[43m \u001b[49m\u001b[38;5;28;43mself\u001b[39;49m\u001b[38;5;241;43m.\u001b[39;49m\u001b[43mdilation\u001b[49m\u001b[43m,\u001b[49m\u001b[43m \u001b[49m\u001b[38;5;28;43mself\u001b[39;49m\u001b[38;5;241;43m.\u001b[39;49m\u001b[43mgroups\u001b[49m\n\u001b[1;32m    551\u001b[0m \u001b[43m\u001b[49m\u001b[43m)\u001b[49m\n",
      "\u001b[0;31mKeyboardInterrupt\u001b[0m: "
     ]
    }
   ],
   "source": [
    "# 3. Entraînement avec early stopping\n",
    "tqdm_epoch_VE = trange(n_epochs)\n",
    "train_losses_VE = []\n",
    "val_losses_VE = []\n",
    "best_val_loss_VE = float('inf')\n",
    "\n",
    "for epoch in tqdm_epoch_VE:\n",
    "    score_model_VE.train()\n",
    "    avg_train_loss_VE = 0.\n",
    "\n",
    "    for x, _ in tqdm(train_loader, leave=False):\n",
    "        x = x.to(device)\n",
    "        loss = loss_VE(score_model_VE, x, perturbation_kernel_std_VE)\n",
    "        optimizer_VE.zero_grad()\n",
    "        loss.backward()\n",
    "        optimizer_VE.step()\n",
    "        avg_train_loss_VE += loss.item()\n",
    "\n",
    "    avg_train_loss_VE /= len(train_loader)\n",
    "    train_losses_VE.append(avg_train_loss_VE)\n",
    "\n",
    "    # Validation (sans gradient)\n",
    "    score_model_VE.eval()\n",
    "    avg_val_loss_VE = 0.\n",
    "    with torch.no_grad():\n",
    "        for x, _ in test_loader:\n",
    "            x = x.to(device)\n",
    "            val_loss = loss_VE(score_model_VE, x, perturbation_kernel_std_VE)\n",
    "            avg_val_loss_VE += val_loss.item()\n",
    "    avg_val_loss_VE /= len(test_loader)\n",
    "    val_losses_VE.append(avg_val_loss_VE)\n",
    "\n",
    "    print(f\"Epoch {epoch+1}: Train Loss = {avg_train_loss_VE:.4f}, Val Loss = {avg_val_loss_VE:.4f}\")\n",
    "\n",
    "    # Early stopping\n",
    "    if avg_val_loss_VE < best_val_loss_VE:\n",
    "        best_val_loss_VE = avg_val_loss_VE\n",
    "        counter = 0\n",
    "        torch.save(score_model_VE.state_dict(), ckpt_path_VE)  # Save best model\n",
    "    else:\n",
    "        counter += 1\n",
    "        if counter >= patience:\n",
    "            print(f\"Early stopping at epoch {epoch+1}\")\n",
    "            break"
   ]
  },
  {
   "cell_type": "code",
   "execution_count": 12,
   "metadata": {},
   "outputs": [
    {
     "data": {
      "text/plain": [
       "False"
      ]
     },
     "execution_count": 12,
     "metadata": {},
     "output_type": "execute_result"
    }
   ],
   "source": [
    "score_model_VE.training"
   ]
  },
  {
   "cell_type": "code",
   "execution_count": 29,
   "metadata": {},
   "outputs": [
    {
     "data": {
      "image/png": "[encoded data removed]",
      "text/plain": [
       "<Figure size 800x500 with 1 Axes>"
      ]
     },
     "metadata": {},
     "output_type": "display_data"
    }
   ],
   "source": [
    "plt.figure(figsize=(8, 5))\n",
    "plt.plot(train_losses_VE, label='Train Loss')\n",
    "plt.plot(val_losses_VE, label='Validation Loss')\n",
    "plt.xlabel('Epoch')\n",
    "plt.ylabel('Loss')\n",
    "plt.title('Training & Validation Loss')\n",
    "plt.legend()\n",
    "plt.grid(True)\n",
    "plt.tight_layout()\n",
    "plt.show()"
   ]
  },
  {
   "cell_type": "markdown",
   "metadata": {},
   "source": [
    "#### Interpretation\n",
    "\n",
    "The training loss (blue) and validation loss (orange) drop rapidly during the first ~10 epochs, which is typical of a good initial learning phase. From around epoch 10 onward, both curves stabilize around a value close to 20. They remain close to each other with very little gap, and there is no visible sign of overfitting — the validation loss does not increase again.\n",
    "\n",
    "This indicates that the model is learning the target distribution effectively without overfitting the training dataset. The fact that validation loss stays nearly equal to training loss is a strong sign of good generalization. Finally, the stable plateau in both curves suggests that the model has likely reached a local or global minimum in the loss landscape."
   ]
  },
  {
   "cell_type": "markdown",
   "metadata": {},
   "source": [
    "### FID Early Stopping"
   ]
  },
  {
   "cell_type": "markdown",
   "metadata": {},
   "source": [
    "### Sampling"
   ]
  },
  {
   "cell_type": "markdown",
   "metadata": {},
   "source": [
    "Recall that the reverse-time SDE is given by\n",
    "\n",
    "$$\n",
    "dx = \\left[ f(x, t) - g(t)^2 \\nabla_x \\log p_t(x) \\right] dt + g(t) \\, d\\bar{\\mathbf{w}}.\n",
    "$$\n",
    "\n",
    "Since we have chosen the forward SDE to be\n",
    "\n",
    "$$\n",
    "dx = \\sigma^t \\, d\\mathbf{w}, \\quad t \\in [0, 1]\n",
    "$$\n",
    "\n",
    "The reverse-time SDE is given by\n",
    "\n",
    "$$\n",
    "dx = -\\sigma^{2t} \\nabla_x \\log p_t(x) \\, dt + \\sigma^t \\, d\\bar{\\mathbf{w}}.\n",
    "$$\n",
    "\n",
    "To sample from our time-dependent score-based model $s_\\theta(x, t)$, we first draw a sample from the prior distribution\n",
    "\n",
    "$$\n",
    "p_1 \\approx \\mathcal{N} \\left(x; \\, 0, \\, \\frac{1}{2 \\log(\\sigma)} (\\sigma^2 - 1) \\mathbf{I} \\right),\n",
    "$$\n",
    "\n",
    "and then solve the reverse-time SDE with numerical methods.\n",
    "\n",
    "In particular, using our time-dependent score-based model, the reverse-time SDE can be approximated by\n",
    "\n",
    "$$\n",
    "dx = -\\sigma^{2t} s_\\theta(x, t) \\, dt + \\sigma^t \\, d\\bar{\\mathbf{w}}.\n",
    "$$\n",
    "\n",
    "Next, one can use numerical methods to solve for the reverse-time SDE, such as the [Euler–Maruyama](https://en.wikipedia.org/wiki/Euler%E2%80%93Maruyama_method) approach. It is based on a simple discretization of the SDE, replacing $dt$ with $\\Delta t$ and $d\\mathbf{w}$ with $\\mathbf{z} \\sim \\mathcal{N}(0, g(t)^2 \\Delta t \\mathbf{I})$. When applied to our reverse-time SDE, we obtain the following iteration rule:\n",
    "\n",
    "$$\n",
    "x_{t - \\Delta t} = x_t + \\sigma^{2t} s_\\theta(x_t, t) \\, \\Delta t + \\sigma^t \\sqrt{\\Delta t} \\, \\mathbf{z}_t,\n",
    "$$\n",
    "\n",
    "where $\\mathbf{z}_t \\sim \\mathcal{N}(0, \\mathbf{I})$."
   ]
  },
  {
   "cell_type": "code",
   "execution_count": 41,
   "metadata": {},
   "outputs": [
    {
     "data": {
      "text/plain": [
       "<All keys matched successfully>"
      ]
     },
     "execution_count": 41,
     "metadata": {},
     "output_type": "execute_result"
    }
   ],
   "source": [
    "# Loading weights\n",
    "score_model_VE_sample = ScoreNet(perturbation_kernel_std=perturbation_kernel_std_VE)\n",
    "score_model_VE_sample = torch.nn.DataParallel(score_model_VE_sample).to(device)\n",
    "score_model_VE_sample.load_state_dict(torch.load(\"checkpoints/ckpt_VE.pth\", map_location=device))"
   ]
  },
  {
   "cell_type": "code",
   "execution_count": 42,
   "metadata": {},
   "outputs": [],
   "source": [
    "def show_samples(samples: torch.Tensor, nrow: int = 4):\n",
    "    samples = samples.cpu().clamp(0.0, 1.0)\n",
    "    fig, axes = plt.subplots(nrow, nrow, figsize=(6, 6))\n",
    "    for i in range(nrow):\n",
    "        for j in range(nrow):\n",
    "            axes[i, j].imshow(samples[i * nrow + j, 0], cmap='gray')\n",
    "            axes[i, j].axis('off')\n",
    "    plt.tight_layout()\n",
    "    plt.show()"
   ]
  },
  {
   "cell_type": "code",
   "execution_count": 43,
   "metadata": {},
   "outputs": [
    {
     "data": {
      "application/vnd.jupyter.widget-view+json": {
       "model_id": "c248c96fe8be44fcabbf3484d4b0c786",
       "version_major": 2,
       "version_minor": 0
      },
      "text/plain": [
       "  0%|          | 0/500 [00:00<?, ?it/s]"
      ]
     },
     "metadata": {},
     "output_type": "display_data"
    },
    {
     "data": {
      "image/png": "[encoded data removed]",
      "text/plain": [
       "<Figure size 600x600 with 16 Axes>"
      ]
     },
     "metadata": {},
     "output_type": "display_data"
    }
   ],
   "source": [
    "samples = euler_sampler_VE(\n",
    "    score_model=score_model_VE_sample,\n",
    "    perturbation_kernel_std=perturbation_kernel_std_VE,\n",
    "    diffusion_coeff=diffusion_VE,\n",
    "    batch_size=16,\n",
    "    num_steps=500,\n",
    "    device=device\n",
    ")\n",
    "\n",
    "show_samples(samples)"
   ]
  },
  {
   "cell_type": "markdown",
   "metadata": {},
   "source": [
    "## 4.2 Variance Preserving SDE (Ornstein-Uhlenbeck process)\n",
    "\n",
    "Let's consider the following [Ornstein-Uhlenbeck](https://fr.wikipedia.org/wiki/Processus_d%27Ornstein-Uhlenbeck) process with $\\theta = 1$, $\\mu = 0$ and $\\sigma = \\sqrt{2}$:\n",
    "\n",
    "$$\n",
    "d\\mathbf{x}(t) = -\\mathbf{x}(t) \\, dt + \\sqrt{2} \\, d\\mathbf{w}(t), \\quad \\mathbf{x}(0) = \\mathbf{x}_0\n",
    "$$\n",
    "\n",
    "#### Transition kernel\n",
    "\n",
    "We can solve this SDE using the variation of parameters method.\n",
    "\n",
    "First, add $\\mathbf{x}(t) \\, dt$ to both sides:\n",
    "\n",
    "$$\n",
    "d\\mathbf{x}(t) + \\mathbf{x}(t) \\, dt = \\sqrt{2} \\, d\\mathbf{w}(t)\n",
    "$$\n",
    "\n",
    "Now multiply both sides by $e^t$:\n",
    "\n",
    "$$\n",
    "e^t \\, d\\mathbf{x}(t) + e^t \\mathbf{x}(t) \\, dt = e^t \\sqrt{2} \\, d\\mathbf{w}(t)\n",
    "$$\n",
    "\n",
    "Therefore, the equation becomes:\n",
    "\n",
    "$$\n",
    "d\\left( e^t \\mathbf{x}(t) \\right) = e^t \\sqrt{2} \\, d\\mathbf{w}(t)\n",
    "$$\n",
    "\n",
    "Integrating from $0$ to $t$:\n",
    "\n",
    "$$\n",
    "e^t \\mathbf{x}(t) - \\mathbf{x}_0 = \\int_0^t e^s \\sqrt{2} \\, d\\mathbf{w}(s)\n",
    "$$\n",
    "\n",
    "Thus:\n",
    "\n",
    "$$\n",
    "\\mathbf{x}(t) = e^{-t} \\mathbf{x}_0 + \\sqrt{2} e^{-t} \\int_0^t e^s \\, d\\mathbf{w}(s)\n",
    "$$\n",
    "\n",
    "The following stochastic integral is a Gaussian random variable.\n",
    "\n",
    "$$\n",
    "\\int_0^t e^s \\, d\\mathbf{w}(s)\n",
    "$$\n",
    "\n",
    "The mean is zero and the covariance is:\n",
    "\n",
    "$$\n",
    "\\text{Cov} = \\int_0^t e^{2s} \\, ds \\cdot I = \\frac{e^{2t} - 1}{2} \\cdot I\n",
    "$$\n",
    "\n",
    "So:\n",
    "\n",
    "$$\n",
    "\\mathbf{x}(t) \\sim e^{-t} \\mathbf{x}_0 + \\sqrt{2} e^{-t} \\cdot \\mathcal{N}\\left(0, \\frac{e^{2t} - 1}{2} I \\right)\n",
    "$$\n",
    "\n",
    "Simplifying:\n",
    "\n",
    "$$\n",
    "\\mathbf{x}(t) \\sim e^{-t} \\mathbf{x}_0 + \\mathcal{N}(0, (1 - e^{-2t}) I)\n",
    "$$"
   ]
  },
  {
   "cell_type": "code",
   "execution_count": 48,
   "metadata": {},
   "outputs": [],
   "source": [
    "sigma = np.sqrt(2.0)\n",
    "\n",
    "# Fonction de drift : f(x, t) = -x\n",
    "def drift_VP(x, t):\n",
    "    return -x\n",
    "\n",
    "# Coefficient de diffusion : g(t) = sqrt(2)\n",
    "def diffusion_VP(t):\n",
    "    return torch.full_like(t, sigma)\n",
    "\n",
    "# Écart-type de la densité marginale p_{0t}(x(t) | x(0))\n",
    "def perturbation_kernel_std_VP(t):\n",
    "    return torch.sqrt(1. - torch.exp(-2. * t)).to(device)"
   ]
  },
  {
   "cell_type": "markdown",
   "metadata": {},
   "source": [
    "#### Loss function\n",
    "\n",
    "Since the conditional distribution $p_t(\\mathbf{x}(t) \\mid \\mathbf{x}_0)$ is Gaussian, we can compute the score analytically:\n",
    "\n",
    "$$\n",
    "\\begin{align}\n",
    "\\nabla_{\\mathbf{x}(t)} \\log p_t(\\mathbf{x}(t) \\mid \\mathbf{x}_0)\n",
    "&= \\nabla_{\\mathbf{x}(t)} \\log \\left[\n",
    "\\frac{1}{(2\\pi)^{D/2} |(1 - e^{-2t}) \\mathbf{I}|^{1/2}} \n",
    "\\exp\\left(\n",
    "- \\frac{1}{2} (\\mathbf{x}(t) - e^{-t} \\mathbf{x}_0)^\\top \\left( (1 - e^{-2t}) \\mathbf{I} \\right)^{-1} (\\mathbf{x}(t) - e^{-t} \\mathbf{x}_0)\n",
    "\\right)\n",
    "\\right] \\\\\n",
    "&= \\nabla_{\\mathbf{x}(t)} \\log \\left[\n",
    "\\frac{1}{(2\\pi (1 - e^{-2t}))^{D/2}} \n",
    "\\exp\\left(\n",
    "- \\frac{1}{2(1 - e^{-2t})} \\| \\mathbf{x}(t) - e^{-t} \\mathbf{x}_0 \\|^2\n",
    "\\right)\n",
    "\\right] \\\\\n",
    "&= \\nabla_{\\mathbf{x}(t)} \\left[\n",
    "- \\frac{D}{2} \\log(2\\pi (1 - e^{-2t})) - \\frac{1}{2(1 - e^{-2t})} \\| \\mathbf{x}(t) - e^{-t} \\mathbf{x}_0 \\|^2\n",
    "\\right] \\\\\n",
    "&= - \\frac{1}{1 - e^{-2t}} \\left( \\mathbf{x}(t) - e^{-t} \\mathbf{x}_0 \\right)\n",
    "\\end{align}\n",
    "$$\n",
    "\n",
    "Let \n",
    "$$\n",
    "\\mathbf{z} = \\frac{\\mathbf{x}(t) - e^{-t} \\mathbf{x}_0}{\\sqrt{1 - e^{-2t}}}\n",
    "$$\n",
    "\n",
    "By replacing $\\nabla_{\\mathbf{x}(t)} \\log p_t(\\mathbf{x}(t))$ with its explicit expression:\n",
    "\n",
    "$$\n",
    "\\mathbb{E}_{p_t(\\mathbf{x}(t))} \\left[ \\left\\| \\mathbf{s}_\\theta(\\mathbf{x}(t), t) - \\nabla_{\\mathbf{x}(t)} \\log p_t(\\mathbf{x}(t)) \\right\\|^2 \\right]\n",
    "= \\mathbb{E}_{(\\mathbf{x}_0, \\mathbf{z}) \\sim p \\otimes \\mathcal{N}(0, I)} \\left[ \\left\\| \\mathbf{s}_\\theta(\\mathbf{x}(t), t) + \\frac{\\mathbf{z}}{\\sqrt{1 - e^{-2t}}} \\right\\|^2 \\right]\n",
    "$$\n",
    "\n",
    "with:\n",
    "\n",
    "$$\n",
    "\\mathbf{x}(t) = e^{-t} \\mathbf{x}_0 + \\sqrt{1 - e^{-2t}} \\, \\mathbf{z}\n",
    "$$\n",
    "\n",
    "We assume that $\\mathbf{x}_0 \\sim p$ and $\\mathbf{z} \\sim \\mathcal{N}(0, I)$ are independent. Therefore, their joint distribution is given by the product measure:\n",
    "\n",
    "$$\n",
    "(\\mathbf{x}_0, \\mathbf{z}) \\sim p \\otimes \\mathcal{N}(0, I)\n",
    "$$\n",
    "\n",
    "This allows us to rewrite the score matching loss for the Ornstein-Uhlenbeck process as:\n",
    "\n",
    "$$\n",
    "\\begin{align}\n",
    "\\mathcal{L}(\\theta) \n",
    "&= \\mathbb{E}_{t \\sim \\mathcal{U}(0, 1)} \\left[ \\lambda(t) \\, \\mathbb{E}_{\\mathbf{x}_0 \\sim p_0(\\mathbf{x})} \\, \\mathbb{E}_{\\mathbf{x}(t) \\sim p_t(\\mathbf{x}(t) \\mid \\mathbf{x}_0)} \\left[ \\left\\| s_\\theta(\\mathbf{x}(t), t) - \\nabla_{\\mathbf{x}(t)} \\log p_t(\\mathbf{x}(t) \\mid \\mathbf{x}_0) \\right\\|^2 \\right] \\right] \\\\\n",
    "&= \\mathbb{E}_{t \\sim \\mathcal{U}(0, 1)} \\left[ \\lambda(t) \\, \\mathbb{E}_{\\mathbf{x}_0 \\sim p_0(\\mathbf{x})} \\, \\mathbb{E}_{\\mathbf{z} \\sim \\mathcal{N}(\\mathbf{0}, \\mathbf{I})} \\left[ \\left\\| s_\\theta(\\mathbf{x}(t), t) + \\frac{1}{\\lambda(t)} (\\mathbf{x}(t) - e^{-t} \\mathbf{x}_0) \\right\\|^2 \\right] \\right] \\\\\n",
    "&= \\mathbb{E}_{t \\sim \\mathcal{U}(0, 1)} \\left[ \\lambda(t) \\, \\mathbb{E}_{\\mathbf{x}_0 \\sim p_0(\\mathbf{x})} \\, \\mathbb{E}_{\\mathbf{z} \\sim \\mathcal{N}(\\mathbf{0}, \\mathbf{I})} \\left[ \\left\\| s_\\theta(e^{-t} \\mathbf{x}_0 + \\sqrt{1 - e^{-2t}} \\, \\mathbf{z}, t) + \\frac{1}{\\sqrt{1 - e^{-2t}}} \\mathbf{z} \\right\\|^2 \\right] \\right] \\\\\n",
    "&= \\mathbb{E}_{t \\sim \\mathcal{U}(0, 1)} \\left[ \\mathbb{E}_{\\mathbf{x}_0 \\sim p_0(\\mathbf{x})} \\, \\mathbb{E}_{\\mathbf{z} \\sim \\mathcal{N}(\\mathbf{0}, \\mathbf{I})} \\left[ \\left\\| \\sqrt{1 - e^{-2t}} \\, s_\\theta(e^{-t} \\mathbf{x}_0 + \\sqrt{1 - e^{-2t}} \\, \\mathbf{z}, t) + \\mathbf{z} \\right\\|^2 \\right] \\right]\n",
    "\\end{align}\n",
    "$$"
   ]
  },
  {
   "cell_type": "code",
   "execution_count": 22,
   "metadata": {},
   "outputs": [
    {
     "data": {
      "text/plain": [
       "True"
      ]
     },
     "execution_count": 22,
     "metadata": {},
     "output_type": "execute_result"
    }
   ],
   "source": [
    "# 1. Initialisation du modèle et de l’optimiseur pour le processus OU (VP)\n",
    "score_model_VP = ScoreNet(perturbation_kernel_std=perturbation_kernel_std_VP)\n",
    "score_model_VP = torch.nn.DataParallel(score_model_VP).to(device)\n",
    "optimizer_VP = Adam(score_model_VP.parameters(), lr=lr)\n",
    "score_model_VP.training"
   ]
  },
  {
   "cell_type": "code",
   "execution_count": 23,
   "metadata": {},
   "outputs": [],
   "source": [
    "ckpt_path_VP = 'checkpoints/ckpt_best_VP.pth'"
   ]
  },
  {
   "cell_type": "code",
   "execution_count": 24,
   "metadata": {
    "scrolled": true
   },
   "outputs": [
    {
     "data": {
      "application/vnd.jupyter.widget-view+json": {
       "model_id": "f8aae06817974e019e10bda9a11be5e9",
       "version_major": 2,
       "version_minor": 0
      },
      "text/plain": [
       "  0%|          | 0/50 [00:00<?, ?it/s]"
      ]
     },
     "metadata": {},
     "output_type": "display_data"
    },
    {
     "data": {
      "application/vnd.jupyter.widget-view+json": {
       "model_id": "",
       "version_major": 2,
       "version_minor": 0
      },
      "text/plain": [
       "  0%|          | 0/1875 [00:00<?, ?it/s]"
      ]
     },
     "metadata": {},
     "output_type": "display_data"
    },
    {
     "name": "stdout",
     "output_type": "stream",
     "text": [
      "Epoch 1: Train Loss = 275.2097, Val Loss = 70.8868\n"
     ]
    },
    {
     "data": {
      "application/vnd.jupyter.widget-view+json": {
       "model_id": "",
       "version_major": 2,
       "version_minor": 0
      },
      "text/plain": [
       "  0%|          | 0/1875 [00:00<?, ?it/s]"
      ]
     },
     "metadata": {},
     "output_type": "display_data"
    },
    {
     "name": "stdout",
     "output_type": "stream",
     "text": [
      "Epoch 2: Train Loss = 55.0697, Val Loss = 44.9958\n"
     ]
    },
    {
     "data": {
      "application/vnd.jupyter.widget-view+json": {
       "model_id": "",
       "version_major": 2,
       "version_minor": 0
      },
      "text/plain": [
       "  0%|          | 0/1875 [00:00<?, ?it/s]"
      ]
     },
     "metadata": {},
     "output_type": "display_data"
    },
    {
     "name": "stdout",
     "output_type": "stream",
     "text": [
      "Epoch 3: Train Loss = 40.8139, Val Loss = 36.3594\n"
     ]
    },
    {
     "data": {
      "application/vnd.jupyter.widget-view+json": {
       "model_id": "",
       "version_major": 2,
       "version_minor": 0
      },
      "text/plain": [
       "  0%|          | 0/1875 [00:00<?, ?it/s]"
      ]
     },
     "metadata": {},
     "output_type": "display_data"
    },
    {
     "name": "stdout",
     "output_type": "stream",
     "text": [
      "Epoch 4: Train Loss = 34.4089, Val Loss = 32.0682\n"
     ]
    },
    {
     "data": {
      "application/vnd.jupyter.widget-view+json": {
       "model_id": "",
       "version_major": 2,
       "version_minor": 0
      },
      "text/plain": [
       "  0%|          | 0/1875 [00:00<?, ?it/s]"
      ]
     },
     "metadata": {},
     "output_type": "display_data"
    },
    {
     "name": "stdout",
     "output_type": "stream",
     "text": [
      "Epoch 5: Train Loss = 30.7686, Val Loss = 29.3751\n"
     ]
    },
    {
     "data": {
      "application/vnd.jupyter.widget-view+json": {
       "model_id": "",
       "version_major": 2,
       "version_minor": 0
      },
      "text/plain": [
       "  0%|          | 0/1875 [00:00<?, ?it/s]"
      ]
     },
     "metadata": {},
     "output_type": "display_data"
    },
    {
     "name": "stdout",
     "output_type": "stream",
     "text": [
      "Epoch 6: Train Loss = 28.1822, Val Loss = 26.7871\n"
     ]
    },
    {
     "data": {
      "application/vnd.jupyter.widget-view+json": {
       "model_id": "",
       "version_major": 2,
       "version_minor": 0
      },
      "text/plain": [
       "  0%|          | 0/1875 [00:00<?, ?it/s]"
      ]
     },
     "metadata": {},
     "output_type": "display_data"
    },
    {
     "name": "stdout",
     "output_type": "stream",
     "text": [
      "Epoch 7: Train Loss = 26.5585, Val Loss = 26.1347\n"
     ]
    },
    {
     "data": {
      "application/vnd.jupyter.widget-view+json": {
       "model_id": "",
       "version_major": 2,
       "version_minor": 0
      },
      "text/plain": [
       "  0%|          | 0/1875 [00:00<?, ?it/s]"
      ]
     },
     "metadata": {},
     "output_type": "display_data"
    },
    {
     "name": "stdout",
     "output_type": "stream",
     "text": [
      "Epoch 8: Train Loss = 25.4738, Val Loss = 24.3865\n"
     ]
    },
    {
     "data": {
      "application/vnd.jupyter.widget-view+json": {
       "model_id": "",
       "version_major": 2,
       "version_minor": 0
      },
      "text/plain": [
       "  0%|          | 0/1875 [00:00<?, ?it/s]"
      ]
     },
     "metadata": {},
     "output_type": "display_data"
    },
    {
     "name": "stdout",
     "output_type": "stream",
     "text": [
      "Epoch 9: Train Loss = 24.6724, Val Loss = 24.2898\n"
     ]
    },
    {
     "data": {
      "application/vnd.jupyter.widget-view+json": {
       "model_id": "",
       "version_major": 2,
       "version_minor": 0
      },
      "text/plain": [
       "  0%|          | 0/1875 [00:00<?, ?it/s]"
      ]
     },
     "metadata": {},
     "output_type": "display_data"
    },
    {
     "name": "stdout",
     "output_type": "stream",
     "text": [
      "Epoch 10: Train Loss = 24.1861, Val Loss = 23.4489\n"
     ]
    },
    {
     "data": {
      "application/vnd.jupyter.widget-view+json": {
       "model_id": "",
       "version_major": 2,
       "version_minor": 0
      },
      "text/plain": [
       "  0%|          | 0/1875 [00:00<?, ?it/s]"
      ]
     },
     "metadata": {},
     "output_type": "display_data"
    },
    {
     "name": "stdout",
     "output_type": "stream",
     "text": [
      "Epoch 11: Train Loss = 23.4702, Val Loss = 23.2982\n"
     ]
    },
    {
     "data": {
      "application/vnd.jupyter.widget-view+json": {
       "model_id": "",
       "version_major": 2,
       "version_minor": 0
      },
      "text/plain": [
       "  0%|          | 0/1875 [00:00<?, ?it/s]"
      ]
     },
     "metadata": {},
     "output_type": "display_data"
    },
    {
     "name": "stdout",
     "output_type": "stream",
     "text": [
      "Epoch 12: Train Loss = 23.1241, Val Loss = 23.0277\n"
     ]
    },
    {
     "data": {
      "application/vnd.jupyter.widget-view+json": {
       "model_id": "",
       "version_major": 2,
       "version_minor": 0
      },
      "text/plain": [
       "  0%|          | 0/1875 [00:00<?, ?it/s]"
      ]
     },
     "metadata": {},
     "output_type": "display_data"
    },
    {
     "name": "stdout",
     "output_type": "stream",
     "text": [
      "Epoch 13: Train Loss = 22.7255, Val Loss = 22.4366\n"
     ]
    },
    {
     "data": {
      "application/vnd.jupyter.widget-view+json": {
       "model_id": "",
       "version_major": 2,
       "version_minor": 0
      },
      "text/plain": [
       "  0%|          | 0/1875 [00:00<?, ?it/s]"
      ]
     },
     "metadata": {},
     "output_type": "display_data"
    },
    {
     "name": "stdout",
     "output_type": "stream",
     "text": [
      "Epoch 14: Train Loss = 22.4199, Val Loss = 22.1070\n"
     ]
    },
    {
     "data": {
      "application/vnd.jupyter.widget-view+json": {
       "model_id": "",
       "version_major": 2,
       "version_minor": 0
      },
      "text/plain": [
       "  0%|          | 0/1875 [00:00<?, ?it/s]"
      ]
     },
     "metadata": {},
     "output_type": "display_data"
    },
    {
     "name": "stdout",
     "output_type": "stream",
     "text": [
      "Epoch 15: Train Loss = 22.1586, Val Loss = 21.9361\n"
     ]
    },
    {
     "data": {
      "application/vnd.jupyter.widget-view+json": {
       "model_id": "",
       "version_major": 2,
       "version_minor": 0
      },
      "text/plain": [
       "  0%|          | 0/1875 [00:00<?, ?it/s]"
      ]
     },
     "metadata": {},
     "output_type": "display_data"
    },
    {
     "name": "stdout",
     "output_type": "stream",
     "text": [
      "Epoch 16: Train Loss = 21.8051, Val Loss = 21.5613\n"
     ]
    },
    {
     "data": {
      "application/vnd.jupyter.widget-view+json": {
       "model_id": "",
       "version_major": 2,
       "version_minor": 0
      },
      "text/plain": [
       "  0%|          | 0/1875 [00:00<?, ?it/s]"
      ]
     },
     "metadata": {},
     "output_type": "display_data"
    },
    {
     "name": "stdout",
     "output_type": "stream",
     "text": [
      "Epoch 17: Train Loss = 21.6503, Val Loss = 21.2788\n"
     ]
    },
    {
     "data": {
      "application/vnd.jupyter.widget-view+json": {
       "model_id": "",
       "version_major": 2,
       "version_minor": 0
      },
      "text/plain": [
       "  0%|          | 0/1875 [00:00<?, ?it/s]"
      ]
     },
     "metadata": {},
     "output_type": "display_data"
    },
    {
     "name": "stdout",
     "output_type": "stream",
     "text": [
      "Epoch 18: Train Loss = 21.6040, Val Loss = 21.4044\n"
     ]
    },
    {
     "data": {
      "application/vnd.jupyter.widget-view+json": {
       "model_id": "",
       "version_major": 2,
       "version_minor": 0
      },
      "text/plain": [
       "  0%|          | 0/1875 [00:00<?, ?it/s]"
      ]
     },
     "metadata": {},
     "output_type": "display_data"
    },
    {
     "name": "stdout",
     "output_type": "stream",
     "text": [
      "Epoch 19: Train Loss = 21.3222, Val Loss = 21.4177\n"
     ]
    },
    {
     "data": {
      "application/vnd.jupyter.widget-view+json": {
       "model_id": "",
       "version_major": 2,
       "version_minor": 0
      },
      "text/plain": [
       "  0%|          | 0/1875 [00:00<?, ?it/s]"
      ]
     },
     "metadata": {},
     "output_type": "display_data"
    },
    {
     "name": "stdout",
     "output_type": "stream",
     "text": [
      "Epoch 20: Train Loss = 21.0942, Val Loss = 20.9638\n"
     ]
    },
    {
     "data": {
      "application/vnd.jupyter.widget-view+json": {
       "model_id": "",
       "version_major": 2,
       "version_minor": 0
      },
      "text/plain": [
       "  0%|          | 0/1875 [00:00<?, ?it/s]"
      ]
     },
     "metadata": {},
     "output_type": "display_data"
    },
    {
     "name": "stdout",
     "output_type": "stream",
     "text": [
      "Epoch 21: Train Loss = 21.1290, Val Loss = 20.9069\n"
     ]
    },
    {
     "data": {
      "application/vnd.jupyter.widget-view+json": {
       "model_id": "",
       "version_major": 2,
       "version_minor": 0
      },
      "text/plain": [
       "  0%|          | 0/1875 [00:00<?, ?it/s]"
      ]
     },
     "metadata": {},
     "output_type": "display_data"
    },
    {
     "name": "stdout",
     "output_type": "stream",
     "text": [
      "Epoch 22: Train Loss = 21.0134, Val Loss = 20.9449\n"
     ]
    },
    {
     "data": {
      "application/vnd.jupyter.widget-view+json": {
       "model_id": "",
       "version_major": 2,
       "version_minor": 0
      },
      "text/plain": [
       "  0%|          | 0/1875 [00:00<?, ?it/s]"
      ]
     },
     "metadata": {},
     "output_type": "display_data"
    },
    {
     "name": "stdout",
     "output_type": "stream",
     "text": [
      "Epoch 23: Train Loss = 20.8554, Val Loss = 20.2898\n"
     ]
    },
    {
     "data": {
      "application/vnd.jupyter.widget-view+json": {
       "model_id": "",
       "version_major": 2,
       "version_minor": 0
      },
      "text/plain": [
       "  0%|          | 0/1875 [00:00<?, ?it/s]"
      ]
     },
     "metadata": {},
     "output_type": "display_data"
    },
    {
     "name": "stdout",
     "output_type": "stream",
     "text": [
      "Epoch 24: Train Loss = 20.6462, Val Loss = 20.8183\n"
     ]
    },
    {
     "data": {
      "application/vnd.jupyter.widget-view+json": {
       "model_id": "",
       "version_major": 2,
       "version_minor": 0
      },
      "text/plain": [
       "  0%|          | 0/1875 [00:00<?, ?it/s]"
      ]
     },
     "metadata": {},
     "output_type": "display_data"
    },
    {
     "name": "stdout",
     "output_type": "stream",
     "text": [
      "Epoch 25: Train Loss = 20.5344, Val Loss = 20.6287\n"
     ]
    },
    {
     "data": {
      "application/vnd.jupyter.widget-view+json": {
       "model_id": "",
       "version_major": 2,
       "version_minor": 0
      },
      "text/plain": [
       "  0%|          | 0/1875 [00:00<?, ?it/s]"
      ]
     },
     "metadata": {},
     "output_type": "display_data"
    },
    {
     "name": "stdout",
     "output_type": "stream",
     "text": [
      "Epoch 26: Train Loss = 20.4896, Val Loss = 20.3982\n"
     ]
    },
    {
     "data": {
      "application/vnd.jupyter.widget-view+json": {
       "model_id": "",
       "version_major": 2,
       "version_minor": 0
      },
      "text/plain": [
       "  0%|          | 0/1875 [00:00<?, ?it/s]"
      ]
     },
     "metadata": {},
     "output_type": "display_data"
    },
    {
     "name": "stdout",
     "output_type": "stream",
     "text": [
      "Epoch 27: Train Loss = 20.4975, Val Loss = 20.5746\n"
     ]
    },
    {
     "data": {
      "application/vnd.jupyter.widget-view+json": {
       "model_id": "",
       "version_major": 2,
       "version_minor": 0
      },
      "text/plain": [
       "  0%|          | 0/1875 [00:00<?, ?it/s]"
      ]
     },
     "metadata": {},
     "output_type": "display_data"
    },
    {
     "name": "stdout",
     "output_type": "stream",
     "text": [
      "Epoch 28: Train Loss = 20.4931, Val Loss = 19.9297\n"
     ]
    },
    {
     "data": {
      "application/vnd.jupyter.widget-view+json": {
       "model_id": "",
       "version_major": 2,
       "version_minor": 0
      },
      "text/plain": [
       "  0%|          | 0/1875 [00:00<?, ?it/s]"
      ]
     },
     "metadata": {},
     "output_type": "display_data"
    },
    {
     "name": "stdout",
     "output_type": "stream",
     "text": [
      "Epoch 29: Train Loss = 20.2827, Val Loss = 20.1497\n"
     ]
    },
    {
     "data": {
      "application/vnd.jupyter.widget-view+json": {
       "model_id": "",
       "version_major": 2,
       "version_minor": 0
      },
      "text/plain": [
       "  0%|          | 0/1875 [00:00<?, ?it/s]"
      ]
     },
     "metadata": {},
     "output_type": "display_data"
    },
    {
     "name": "stdout",
     "output_type": "stream",
     "text": [
      "Epoch 30: Train Loss = 20.2002, Val Loss = 20.4619\n"
     ]
    },
    {
     "data": {
      "application/vnd.jupyter.widget-view+json": {
       "model_id": "",
       "version_major": 2,
       "version_minor": 0
      },
      "text/plain": [
       "  0%|          | 0/1875 [00:00<?, ?it/s]"
      ]
     },
     "metadata": {},
     "output_type": "display_data"
    },
    {
     "name": "stdout",
     "output_type": "stream",
     "text": [
      "Epoch 31: Train Loss = 20.3916, Val Loss = 19.9410\n"
     ]
    },
    {
     "data": {
      "application/vnd.jupyter.widget-view+json": {
       "model_id": "",
       "version_major": 2,
       "version_minor": 0
      },
      "text/plain": [
       "  0%|          | 0/1875 [00:00<?, ?it/s]"
      ]
     },
     "metadata": {},
     "output_type": "display_data"
    },
    {
     "name": "stdout",
     "output_type": "stream",
     "text": [
      "Epoch 32: Train Loss = 20.0303, Val Loss = 20.1205\n"
     ]
    },
    {
     "data": {
      "application/vnd.jupyter.widget-view+json": {
       "model_id": "",
       "version_major": 2,
       "version_minor": 0
      },
      "text/plain": [
       "  0%|          | 0/1875 [00:00<?, ?it/s]"
      ]
     },
     "metadata": {},
     "output_type": "display_data"
    },
    {
     "name": "stdout",
     "output_type": "stream",
     "text": [
      "Epoch 33: Train Loss = 19.9768, Val Loss = 19.6464\n"
     ]
    },
    {
     "data": {
      "application/vnd.jupyter.widget-view+json": {
       "model_id": "",
       "version_major": 2,
       "version_minor": 0
      },
      "text/plain": [
       "  0%|          | 0/1875 [00:00<?, ?it/s]"
      ]
     },
     "metadata": {},
     "output_type": "display_data"
    },
    {
     "name": "stdout",
     "output_type": "stream",
     "text": [
      "Epoch 34: Train Loss = 20.1515, Val Loss = 19.5167\n"
     ]
    },
    {
     "data": {
      "application/vnd.jupyter.widget-view+json": {
       "model_id": "",
       "version_major": 2,
       "version_minor": 0
      },
      "text/plain": [
       "  0%|          | 0/1875 [00:00<?, ?it/s]"
      ]
     },
     "metadata": {},
     "output_type": "display_data"
    },
    {
     "name": "stdout",
     "output_type": "stream",
     "text": [
      "Epoch 35: Train Loss = 19.9567, Val Loss = 19.5765\n"
     ]
    },
    {
     "data": {
      "application/vnd.jupyter.widget-view+json": {
       "model_id": "",
       "version_major": 2,
       "version_minor": 0
      },
      "text/plain": [
       "  0%|          | 0/1875 [00:00<?, ?it/s]"
      ]
     },
     "metadata": {},
     "output_type": "display_data"
    },
    {
     "name": "stdout",
     "output_type": "stream",
     "text": [
      "Epoch 36: Train Loss = 19.8587, Val Loss = 19.8297\n"
     ]
    },
    {
     "data": {
      "application/vnd.jupyter.widget-view+json": {
       "model_id": "",
       "version_major": 2,
       "version_minor": 0
      },
      "text/plain": [
       "  0%|          | 0/1875 [00:00<?, ?it/s]"
      ]
     },
     "metadata": {},
     "output_type": "display_data"
    },
    {
     "name": "stdout",
     "output_type": "stream",
     "text": [
      "Epoch 37: Train Loss = 19.8337, Val Loss = 19.5743\n"
     ]
    },
    {
     "data": {
      "application/vnd.jupyter.widget-view+json": {
       "model_id": "",
       "version_major": 2,
       "version_minor": 0
      },
      "text/plain": [
       "  0%|          | 0/1875 [00:00<?, ?it/s]"
      ]
     },
     "metadata": {},
     "output_type": "display_data"
    },
    {
     "name": "stdout",
     "output_type": "stream",
     "text": [
      "Epoch 38: Train Loss = 19.7684, Val Loss = 19.8202\n"
     ]
    },
    {
     "data": {
      "application/vnd.jupyter.widget-view+json": {
       "model_id": "",
       "version_major": 2,
       "version_minor": 0
      },
      "text/plain": [
       "  0%|          | 0/1875 [00:00<?, ?it/s]"
      ]
     },
     "metadata": {},
     "output_type": "display_data"
    },
    {
     "name": "stdout",
     "output_type": "stream",
     "text": [
      "Epoch 39: Train Loss = 19.7954, Val Loss = 19.6393\n",
      "Early stopping at epoch 39\n"
     ]
    }
   ],
   "source": [
    "# 2. Entraînement avec suivi des pertes + early stopping\n",
    "tqdm_epoch_VP = trange(n_epochs)\n",
    "train_losses_VP = []\n",
    "val_losses_VP = []\n",
    "\n",
    "# Early stopping config\n",
    "best_val_loss_VP = float('inf')\n",
    "patience_VP = 5\n",
    "counter_es = 0\n",
    "\n",
    "for epoch in tqdm_epoch_VP:\n",
    "    score_model_VP.train()\n",
    "    avg_train_loss_VP = 0.\n",
    "    \n",
    "    for x, _ in tqdm(train_loader, leave=False):\n",
    "        x = x.to(device)\n",
    "        loss = loss_VP(score_model_VP, x, perturbation_kernel_std_VP)\n",
    "        optimizer_VP.zero_grad()\n",
    "        loss.backward()\n",
    "        optimizer_VP.step()\n",
    "        avg_train_loss_VP += loss.item()\n",
    "\n",
    "    avg_train_loss_VP /= len(train_loader)\n",
    "    train_losses_VP.append(avg_train_loss_VP)\n",
    "\n",
    "    # Validation (sans gradient)\n",
    "    score_model_VP.eval()\n",
    "    avg_val_loss_VP = 0.\n",
    "    with torch.no_grad():\n",
    "        for x, _ in test_loader:\n",
    "            x = x.to(device)\n",
    "            val_loss = loss_VP(score_model_VP, x, perturbation_kernel_std_VP)\n",
    "            avg_val_loss_VP += val_loss.item()\n",
    "    avg_val_loss_VP /= len(test_loader)\n",
    "    val_losses_VP.append(avg_val_loss_VP)\n",
    "    \n",
    "    print(f\"Epoch {epoch+1}: Train Loss = {avg_train_loss_VP:.4f}, Val Loss = {avg_val_loss_VP:.4f}\")\n",
    "    tqdm_epoch_VP.set_description(f\"Epoch {epoch+1} - Train: {avg_train_loss_VP:.4f} - Val: {avg_val_loss_VP:.4f}\")\n",
    "\n",
    "    # Early stopping\n",
    "    if avg_val_loss_VP < best_val_loss_VP:\n",
    "        best_val_loss_VP = avg_val_loss_VP\n",
    "        counter_es = 0\n",
    "        torch.save(score_model_VP.state_dict(), ckpt_path_VP)  # Save best model\n",
    "    else:\n",
    "        counter_es += 1\n",
    "        if counter_es >= patience_VP:\n",
    "            print(f\"Early stopping at epoch {epoch+1}\")\n",
    "            break"
   ]
  },
  {
   "cell_type": "markdown",
   "metadata": {},
   "source": [
    "### Sampling\n",
    "\n",
    "`vérifier avec un -`"
   ]
  },
  {
   "cell_type": "markdown",
   "metadata": {},
   "source": [
    "For that SDE, the reverse-time SDE becomes:\n",
    "\n",
    "$$\n",
    "d\\mathbf{x} = \\left[ \\mathbf{x}(t) + 2 \\nabla_{\\mathbf{x}} \\log p_t(\\mathbf{x}) \\right] dt + \\sqrt{2} \\, d\\bar{\\mathbf{w}}(t)\n",
    "$$\n",
    "\n",
    "To sample from our trained time-dependent score-based model $s_\\theta(\\mathbf{x}, t)$, we first draw a sample from the prior distribution $p_1$, which is approximately:\n",
    "\n",
    "$$\n",
    "p_1(\\mathbf{x}) = \\mathcal{N}(\\mathbf{0}, \\mathbf{I})\n",
    "$$\n",
    "\n",
    "We then solve the reverse-time SDE using numerical methods. Using our estimated score function, the SDE becomes:\n",
    "\n",
    "$$\n",
    "d\\mathbf{x} = \\left[ \\mathbf{x}(t) + 2 s_\\theta(\\mathbf{x}(t), t) \\right] dt + \\sqrt{2} \\, d\\bar{\\mathbf{w}}(t)\n",
    "$$\n",
    "\n",
    "We discretize this SDE using the [Euler–Maruyama method](https://en.wikipedia.org/wiki/Euler%E2%80%93Maruyama_method), replacing $dt$ by a small step $\\Delta t$ and $d\\bar{\\mathbf{w}}$ by $\\sqrt{\\Delta t} \\cdot \\mathbf{z}_t$ with $\\mathbf{z}_t \\sim \\mathcal{N}(\\mathbf{0}, \\mathbf{I})$.\n",
    "\n",
    "This yields the update rule:\n",
    "\n",
    "$$\n",
    "\\mathbf{x}_{t - \\Delta t} = \\mathbf{x}_t + \\left( \\mathbf{x}_t + 2 \\cdot s_\\theta(\\mathbf{x}_t, t) \\right) \\Delta t + \\sqrt{2 \\Delta t} \\cdot \\mathbf{z}_t\n",
    "$$\n",
    "\n",
    "where $\\mathbf{z}_t \\sim \\mathcal{N}(0, \\mathbf{I})$.\n",
    "\n",
    "By iteratively applying this rule from $t=1$ down to $t \\approx 0$, we generate samples approximating the true data distribution $p_0$."
   ]
  },
  {
   "cell_type": "code",
   "execution_count": 33,
   "metadata": {},
   "outputs": [
    {
     "data": {
      "text/plain": [
       "<All keys matched successfully>"
      ]
     },
     "execution_count": 33,
     "metadata": {},
     "output_type": "execute_result"
    }
   ],
   "source": [
    "score_model_VP_sample = ScoreNet(perturbation_kernel_std=perturbation_kernel_std_VP)\n",
    "score_model_VP_sample = torch.nn.DataParallel(score_model_VP_sample).to(device)\n",
    "score_model_VP_sample.load_state_dict(torch.load(\"checkpoints/ckpt_best_VP.pth\", map_location=device))"
   ]
  },
  {
   "cell_type": "code",
   "execution_count": 51,
   "metadata": {},
   "outputs": [
    {
     "data": {
      "application/vnd.jupyter.widget-view+json": {
       "model_id": "58ddc6f2171a4ea4945513761a5679bf",
       "version_major": 2,
       "version_minor": 0
      },
      "text/plain": [
       "  0%|          | 0/500 [00:00<?, ?it/s]"
      ]
     },
     "metadata": {},
     "output_type": "display_data"
    }
   ],
   "source": [
    "samples = euler_sampler_VP(\n",
    "    score_model=score_model_VE_sample,\n",
    "    perturbation_kernel_std=perturbation_kernel_std_VP,\n",
    "    diffusion_coeff=diffusion_VP,\n",
    "    batch_size=16,\n",
    "    num_steps=500,\n",
    "    device=device\n",
    ")"
   ]
  },
  {
   "cell_type": "code",
   "execution_count": 52,
   "metadata": {},
   "outputs": [
    {
     "data": {
      "image/png": "[encoded data removed]",
      "text/plain": [
       "<Figure size 600x600 with 16 Axes>"
      ]
     },
     "metadata": {},
     "output_type": "display_data"
    }
   ],
   "source": [
    "show_samples(samples)"
   ]
  },
  {
   "cell_type": "markdown",
   "metadata": {},
   "source": [
    "## 4.4 Time series to Images"
   ]
  },
  {
   "cell_type": "code",
   "execution_count": null,
   "metadata": {},
   "outputs": [],
   "source": [
    "import pandas as pd\n",
    "import torch\n",
    "import matplotlib.pyplot as plt\n",
    "from img_transforms import DelayEmbedder\n",
    "from img_transforms import STFTEmbedder"
   ]
  },
  {
   "cell_type": "code",
   "execution_count": null,
   "metadata": {},
   "outputs": [],
   "source": []
  }
 ],
 "metadata": {
  "kernelspec": {
   "display_name": "Python 3 (ipykernel)",
   "language": "python",
   "name": "python3"
  },
  "language_info": {
   "codemirror_mode": {
    "name": "ipython",
    "version": 3
   },
   "file_extension": ".py",
   "mimetype": "text/x-python",
   "name": "python",
   "nbconvert_exporter": "python",
   "pygments_lexer": "ipython3",
   "version": "3.10.7"
  }
 },
 "nbformat": 4,
 "nbformat_minor": 4
}

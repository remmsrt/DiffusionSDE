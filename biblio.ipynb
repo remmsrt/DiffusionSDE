{
 "cells": [
  {
   "cell_type": "markdown",
   "id": "08abeea9",
   "metadata": {},
   "source": [
    "## 📚 References\n",
    "\n",
    "1. **Song, Y., Sohl-Dickstein, J., Kingma, D. P., Kumar, A., Ermon, S., & Poole, B. (2021).**  \n",
    "   *Score-Based Generative Modeling through Stochastic Differential Equations*.  \n",
    "   arXiv: [2011.13456](https://arxiv.org/abs/2011.13456)\n",
    "\n",
    "2. **Song, Y., & Ermon, S. (2020).**  \n",
    "   *Improved Techniques for Training Score-Based Generative Models*.  \n",
    "   arXiv: [1907.05600](https://arxiv.org/abs/1907.05600)\n",
    "\n",
    "3. **Hyvärinen, A. (2005).**  \n",
    "   *Estimation of Non-Normalized Statistical Models by Score Matching*.  \n",
    "   *Journal of Machine Learning Research*, 6, 695–709.  \n",
    "   [https://jmlr.org/papers/volume6/hyvarinen05a/hyvarinen05a.pdf](https://jmlr.org/papers/volume6/hyvarinen05a/hyvarinen05a.pdf)\n",
    "\n",
    "4. **Vincent, P. (2010).**  \n",
    "   *A Connection Between Score Matching and Denoising Autoencoders*.  \n",
    "   Technical Report, Université de Montréal.  \n",
    "   [https://www.iro.umontreal.ca/~vincentp/Publications/smdae_techreport.pdf](https://www.iro.umontreal.ca/~vincentp/Publications/smdae_techreport.pdf)\n",
    "\n",
    "5. **Ho, J., Jain, A., & Abbeel, P. (2020).**  \n",
    "    *Denoising Diffusion Probabilistic Models*.  \n",
    "    *NeurIPS 2020*.  \n",
    "    arXiv: [2006.11239](https://arxiv.org/abs/2006.11239)\n",
    "\n",
    "6. **Anderson, B. D. O. (1982).**  \n",
    "   *Reverse-time diffusion equation models*.  \n",
    "   *Stochastic Processes and Their Applications*, 12(3), 313–326.  \n",
    "   [https://core.ac.uk/download/pdf/82826666.pdf](https://core.ac.uk/download/pdf/82826666.pdf)\n",
    "\n",
    "7. **Ronneberger, O., Fischer, P., & Brox, T. (2015).**  \n",
    "   *U-Net: Convolutional Networks for Biomedical Image Segmentation*.  \n",
    "   *Medical Image Computing and Computer-Assisted Intervention* (MICCAI).  \n",
    "   arXiv: [1505.04597](https://arxiv.org/abs/1505.04597)\n",
    "\n",
    "8. **Rahaman, N., Baratin, A., Arpit, D., Draxler, F., Lin, M., Hamprecht, F., Bengio, Y., & Courville, A. (2019).**  \n",
    "    *On the Spectral Bias of Deep Neural Networks*.  \n",
    "    arXiv: [1806.08734](https://arxiv.org/abs/1806.08734)\n",
    "\n",
    "9. **Tancik, M., Srinivasan, P. P., Mildenhall, B., Fridovich-Keil, S., Raghavan, N., Singhal, U., Ramamoorthi, R., Barron, J. T., & Ng, R. (2020).**  \n",
    "    *Fourier Features Let Networks Learn High Frequency Functions in Low Dimensional Domains*.  \n",
    "    *NeurIPS 2020*.  \n",
    "    arXiv: [2006.10739](https://arxiv.org/abs/2006.10739)\n",
    "\n",
    "10. **Azencot, O., Patel, D., Bao, C., & Haim, G. (2024).**  \n",
    "    *Utilizing Image Transforms and Diffusion Models for Generative Modeling of Short and Long Time Series*.  \n",
    "    arXiv: [2410.19538](https://arxiv.org/abs/2410.19538)"
   ]
  }
 ],
 "metadata": {
  "language_info": {
   "name": "python"
  }
 },
 "nbformat": 4,
 "nbformat_minor": 5
}
